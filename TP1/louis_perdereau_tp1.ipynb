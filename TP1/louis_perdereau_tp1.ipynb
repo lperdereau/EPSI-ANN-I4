{
 "cells": [
  {
   "cell_type": "markdown",
   "metadata": {},
   "source": [
    "## Import des librairies ##"
   ]
  },
  {
   "cell_type": "code",
   "execution_count": 162,
   "metadata": {},
   "outputs": [],
   "source": [
    "#Imports librairies de base\n",
    "import numpy as np\n",
    "import pandas as pd\n",
    "\n",
    "#Bibliothèques pour Cross validation\n",
    "\n",
    "#Affichage de Graphes\n",
    "from IPython.display import Markdown, display, HTML"
   ]
  },
  {
   "cell_type": "markdown",
   "metadata": {
    "_cell_guid": "25b1e1db-8bc5-7029-f719-91da523bd121",
    "_uuid": "5c867fcbb300bcf3c9b8986bba9949da2a2df931"
   },
   "source": [
    "## 1. Lecture des données ##"
   ]
  },
  {
   "cell_type": "markdown",
   "metadata": {},
   "source": [
    "1.1 Charger les données d'apprentissage (Data/passagers.csv) dans un DataFrame nommé train. Afficher 10 exemples."
   ]
  },
  {
   "cell_type": "code",
   "execution_count": 163,
   "metadata": {
    "_cell_guid": "2ce68358-02ec-556d-ba88-e773a50bc18b",
    "_uuid": "5ec0878acc5c7ab3903410e671c2a2c6cfeafeea"
   },
   "outputs": [
    {
     "output_type": "execute_result",
     "data": {
      "text/plain": "     PassengerId  Survived  Pclass  \\\n386          387         0       3   \n8              9         1       3   \n411          412         0       3   \n447          448         1       1   \n318          319         1       1   \n49            50         0       3   \n179          180         0       3   \n695          696         0       2   \n292          293         0       2   \n839          840         1       1   \n\n                                                  Name     Sex   Age  SibSp  \\\n386                    Goodwin, Master. Sidney Leonard    male   1.0      5   \n8    Johnson, Mrs. Oscar W (Elisabeth Vilhelmina Berg)  female  27.0      0   \n411                                    Hart, Mr. Henry    male   NaN      0   \n447                        Seward, Mr. Frederic Kimber    male  34.0      0   \n318                           Wick, Miss. Mary Natalie  female  31.0      0   \n49       Arnold-Franchi, Mrs. Josef (Josefine Franchi)  female  18.0      1   \n179                                Leonard, Mr. Lionel    male  36.0      0   \n695                         Chapman, Mr. Charles Henry    male  52.0      0   \n292                             Levy, Mr. Rene Jacques    male  36.0      0   \n839                               Marechal, Mr. Pierre    male   NaN      0   \n\n     Parch         Ticket      Fare Cabin Embarked  \n386      2        CA 2144   46.9000   NaN        S  \n8        2         347742   11.1333   NaN        S  \n411      0         394140    6.8583   NaN        Q  \n447      0         113794   26.5500   NaN        S  \n318      2          36928  164.8667    C7        S  \n49       0         349237   17.8000   NaN        S  \n179      0           LINE    0.0000   NaN        S  \n695      0         248731   13.5000   NaN        S  \n292      0  SC/Paris 2163   12.8750     D        C  \n839      0          11774   29.7000   C47        C  ",
      "text/html": "<div>\n<style scoped>\n    .dataframe tbody tr th:only-of-type {\n        vertical-align: middle;\n    }\n\n    .dataframe tbody tr th {\n        vertical-align: top;\n    }\n\n    .dataframe thead th {\n        text-align: right;\n    }\n</style>\n<table border=\"1\" class=\"dataframe\">\n  <thead>\n    <tr style=\"text-align: right;\">\n      <th></th>\n      <th>PassengerId</th>\n      <th>Survived</th>\n      <th>Pclass</th>\n      <th>Name</th>\n      <th>Sex</th>\n      <th>Age</th>\n      <th>SibSp</th>\n      <th>Parch</th>\n      <th>Ticket</th>\n      <th>Fare</th>\n      <th>Cabin</th>\n      <th>Embarked</th>\n    </tr>\n  </thead>\n  <tbody>\n    <tr>\n      <th>386</th>\n      <td>387</td>\n      <td>0</td>\n      <td>3</td>\n      <td>Goodwin, Master. Sidney Leonard</td>\n      <td>male</td>\n      <td>1.0</td>\n      <td>5</td>\n      <td>2</td>\n      <td>CA 2144</td>\n      <td>46.9000</td>\n      <td>NaN</td>\n      <td>S</td>\n    </tr>\n    <tr>\n      <th>8</th>\n      <td>9</td>\n      <td>1</td>\n      <td>3</td>\n      <td>Johnson, Mrs. Oscar W (Elisabeth Vilhelmina Berg)</td>\n      <td>female</td>\n      <td>27.0</td>\n      <td>0</td>\n      <td>2</td>\n      <td>347742</td>\n      <td>11.1333</td>\n      <td>NaN</td>\n      <td>S</td>\n    </tr>\n    <tr>\n      <th>411</th>\n      <td>412</td>\n      <td>0</td>\n      <td>3</td>\n      <td>Hart, Mr. Henry</td>\n      <td>male</td>\n      <td>NaN</td>\n      <td>0</td>\n      <td>0</td>\n      <td>394140</td>\n      <td>6.8583</td>\n      <td>NaN</td>\n      <td>Q</td>\n    </tr>\n    <tr>\n      <th>447</th>\n      <td>448</td>\n      <td>1</td>\n      <td>1</td>\n      <td>Seward, Mr. Frederic Kimber</td>\n      <td>male</td>\n      <td>34.0</td>\n      <td>0</td>\n      <td>0</td>\n      <td>113794</td>\n      <td>26.5500</td>\n      <td>NaN</td>\n      <td>S</td>\n    </tr>\n    <tr>\n      <th>318</th>\n      <td>319</td>\n      <td>1</td>\n      <td>1</td>\n      <td>Wick, Miss. Mary Natalie</td>\n      <td>female</td>\n      <td>31.0</td>\n      <td>0</td>\n      <td>2</td>\n      <td>36928</td>\n      <td>164.8667</td>\n      <td>C7</td>\n      <td>S</td>\n    </tr>\n    <tr>\n      <th>49</th>\n      <td>50</td>\n      <td>0</td>\n      <td>3</td>\n      <td>Arnold-Franchi, Mrs. Josef (Josefine Franchi)</td>\n      <td>female</td>\n      <td>18.0</td>\n      <td>1</td>\n      <td>0</td>\n      <td>349237</td>\n      <td>17.8000</td>\n      <td>NaN</td>\n      <td>S</td>\n    </tr>\n    <tr>\n      <th>179</th>\n      <td>180</td>\n      <td>0</td>\n      <td>3</td>\n      <td>Leonard, Mr. Lionel</td>\n      <td>male</td>\n      <td>36.0</td>\n      <td>0</td>\n      <td>0</td>\n      <td>LINE</td>\n      <td>0.0000</td>\n      <td>NaN</td>\n      <td>S</td>\n    </tr>\n    <tr>\n      <th>695</th>\n      <td>696</td>\n      <td>0</td>\n      <td>2</td>\n      <td>Chapman, Mr. Charles Henry</td>\n      <td>male</td>\n      <td>52.0</td>\n      <td>0</td>\n      <td>0</td>\n      <td>248731</td>\n      <td>13.5000</td>\n      <td>NaN</td>\n      <td>S</td>\n    </tr>\n    <tr>\n      <th>292</th>\n      <td>293</td>\n      <td>0</td>\n      <td>2</td>\n      <td>Levy, Mr. Rene Jacques</td>\n      <td>male</td>\n      <td>36.0</td>\n      <td>0</td>\n      <td>0</td>\n      <td>SC/Paris 2163</td>\n      <td>12.8750</td>\n      <td>D</td>\n      <td>C</td>\n    </tr>\n    <tr>\n      <th>839</th>\n      <td>840</td>\n      <td>1</td>\n      <td>1</td>\n      <td>Marechal, Mr. Pierre</td>\n      <td>male</td>\n      <td>NaN</td>\n      <td>0</td>\n      <td>0</td>\n      <td>11774</td>\n      <td>29.7000</td>\n      <td>C47</td>\n      <td>C</td>\n    </tr>\n  </tbody>\n</table>\n</div>"
     },
     "metadata": {},
     "execution_count": 163
    }
   ],
   "source": [
    "train = pd.read_csv('Data/passagers.csv', dtype={'PassengerId': np.int})\n",
    "train.sample(10)"
   ]
  },
  {
   "cell_type": "markdown",
   "metadata": {},
   "source": [
    "1.2 Charger les données d'apprentissage (Data/test.csv) dans un Dataframe nommé test. Afficher 10 exemples. "
   ]
  },
  {
   "cell_type": "code",
   "execution_count": 164,
   "metadata": {
    "_cell_guid": "2ce68358-02ec-556d-ba88-e773a50bc18b",
    "_uuid": "5ec0878acc5c7ab3903410e671c2a2c6cfeafeea"
   },
   "outputs": [
    {
     "output_type": "execute_result",
     "data": {
      "text/plain": "     PassengerId  Pclass                           Name     Sex   Age  SibSp  \\\n113         1005       3       Buckley, Miss. Katherine  female  18.5      0   \n57           949       3  Abelseth, Mr. Olaus Jorgensen    male  25.0      0   \n313         1205       3            Carr, Miss. Jeannie  female  37.0      0   \n331         1223       1   Dulles, Mr. William Crothers    male  39.0      0   \n399         1291       3       Conlon, Mr. Thomas Henry    male  31.0      0   \n270         1162       1   McCaffry, Mr. Thomas Francis    male  46.0      0   \n382         1274       3     Risien, Mrs. Samuel (Emma)  female   NaN      0   \n267         1159       3    Warren, Mr. Charles William    male   NaN      0   \n183         1075       3              Lane, Mr. Patrick    male   NaN      0   \n173         1065       3               Torfa, Mr. Assad    male   NaN      0   \n\n     Parch      Ticket     Fare  Cabin Embarked  \n113      0      329944   7.2833    NaN        Q  \n57       0      348122   7.6500  F G63        S  \n313      0      368364   7.7500    NaN        Q  \n331      0    PC 17580  29.7000    A18        C  \n399      0       21332   7.7333    NaN        Q  \n270      0       13050  75.2417     C6        C  \n382      0      364498  14.5000    NaN        S  \n267      0  C.A. 49867   7.5500    NaN        S  \n183      0        7935   7.7500    NaN        Q  \n173      0        2673   7.2292    NaN        C  ",
      "text/html": "<div>\n<style scoped>\n    .dataframe tbody tr th:only-of-type {\n        vertical-align: middle;\n    }\n\n    .dataframe tbody tr th {\n        vertical-align: top;\n    }\n\n    .dataframe thead th {\n        text-align: right;\n    }\n</style>\n<table border=\"1\" class=\"dataframe\">\n  <thead>\n    <tr style=\"text-align: right;\">\n      <th></th>\n      <th>PassengerId</th>\n      <th>Pclass</th>\n      <th>Name</th>\n      <th>Sex</th>\n      <th>Age</th>\n      <th>SibSp</th>\n      <th>Parch</th>\n      <th>Ticket</th>\n      <th>Fare</th>\n      <th>Cabin</th>\n      <th>Embarked</th>\n    </tr>\n  </thead>\n  <tbody>\n    <tr>\n      <th>113</th>\n      <td>1005</td>\n      <td>3</td>\n      <td>Buckley, Miss. Katherine</td>\n      <td>female</td>\n      <td>18.5</td>\n      <td>0</td>\n      <td>0</td>\n      <td>329944</td>\n      <td>7.2833</td>\n      <td>NaN</td>\n      <td>Q</td>\n    </tr>\n    <tr>\n      <th>57</th>\n      <td>949</td>\n      <td>3</td>\n      <td>Abelseth, Mr. Olaus Jorgensen</td>\n      <td>male</td>\n      <td>25.0</td>\n      <td>0</td>\n      <td>0</td>\n      <td>348122</td>\n      <td>7.6500</td>\n      <td>F G63</td>\n      <td>S</td>\n    </tr>\n    <tr>\n      <th>313</th>\n      <td>1205</td>\n      <td>3</td>\n      <td>Carr, Miss. Jeannie</td>\n      <td>female</td>\n      <td>37.0</td>\n      <td>0</td>\n      <td>0</td>\n      <td>368364</td>\n      <td>7.7500</td>\n      <td>NaN</td>\n      <td>Q</td>\n    </tr>\n    <tr>\n      <th>331</th>\n      <td>1223</td>\n      <td>1</td>\n      <td>Dulles, Mr. William Crothers</td>\n      <td>male</td>\n      <td>39.0</td>\n      <td>0</td>\n      <td>0</td>\n      <td>PC 17580</td>\n      <td>29.7000</td>\n      <td>A18</td>\n      <td>C</td>\n    </tr>\n    <tr>\n      <th>399</th>\n      <td>1291</td>\n      <td>3</td>\n      <td>Conlon, Mr. Thomas Henry</td>\n      <td>male</td>\n      <td>31.0</td>\n      <td>0</td>\n      <td>0</td>\n      <td>21332</td>\n      <td>7.7333</td>\n      <td>NaN</td>\n      <td>Q</td>\n    </tr>\n    <tr>\n      <th>270</th>\n      <td>1162</td>\n      <td>1</td>\n      <td>McCaffry, Mr. Thomas Francis</td>\n      <td>male</td>\n      <td>46.0</td>\n      <td>0</td>\n      <td>0</td>\n      <td>13050</td>\n      <td>75.2417</td>\n      <td>C6</td>\n      <td>C</td>\n    </tr>\n    <tr>\n      <th>382</th>\n      <td>1274</td>\n      <td>3</td>\n      <td>Risien, Mrs. Samuel (Emma)</td>\n      <td>female</td>\n      <td>NaN</td>\n      <td>0</td>\n      <td>0</td>\n      <td>364498</td>\n      <td>14.5000</td>\n      <td>NaN</td>\n      <td>S</td>\n    </tr>\n    <tr>\n      <th>267</th>\n      <td>1159</td>\n      <td>3</td>\n      <td>Warren, Mr. Charles William</td>\n      <td>male</td>\n      <td>NaN</td>\n      <td>0</td>\n      <td>0</td>\n      <td>C.A. 49867</td>\n      <td>7.5500</td>\n      <td>NaN</td>\n      <td>S</td>\n    </tr>\n    <tr>\n      <th>183</th>\n      <td>1075</td>\n      <td>3</td>\n      <td>Lane, Mr. Patrick</td>\n      <td>male</td>\n      <td>NaN</td>\n      <td>0</td>\n      <td>0</td>\n      <td>7935</td>\n      <td>7.7500</td>\n      <td>NaN</td>\n      <td>Q</td>\n    </tr>\n    <tr>\n      <th>173</th>\n      <td>1065</td>\n      <td>3</td>\n      <td>Torfa, Mr. Assad</td>\n      <td>male</td>\n      <td>NaN</td>\n      <td>0</td>\n      <td>0</td>\n      <td>2673</td>\n      <td>7.2292</td>\n      <td>NaN</td>\n      <td>C</td>\n    </tr>\n  </tbody>\n</table>\n</div>"
     },
     "metadata": {},
     "execution_count": 164
    }
   ],
   "source": [
    "test = pd.read_csv('Data/test.csv', dtype={'PassengerId': np.int})\n",
    "test.sample(10)"
   ]
  },
  {
   "cell_type": "markdown",
   "metadata": {},
   "source": [
    "1.3 Afficher les informations des deux DataFrames train et Test."
   ]
  },
  {
   "cell_type": "code",
   "execution_count": 165,
   "metadata": {
    "_cell_guid": "2ce68358-02ec-556d-ba88-e773a50bc18b",
    "_uuid": "5ec0878acc5c7ab3903410e671c2a2c6cfeafeea"
   },
   "outputs": [
    {
     "output_type": "stream",
     "name": "stdout",
     "text": "<class 'pandas.core.frame.DataFrame'>\nRangeIndex: 891 entries, 0 to 890\nData columns (total 12 columns):\n #   Column       Non-Null Count  Dtype  \n---  ------       --------------  -----  \n 0   PassengerId  891 non-null    int64  \n 1   Survived     891 non-null    int64  \n 2   Pclass       891 non-null    int64  \n 3   Name         891 non-null    object \n 4   Sex          891 non-null    object \n 5   Age          714 non-null    float64\n 6   SibSp        891 non-null    int64  \n 7   Parch        891 non-null    int64  \n 8   Ticket       891 non-null    object \n 9   Fare         891 non-null    float64\n 10  Cabin        204 non-null    object \n 11  Embarked     889 non-null    object \ndtypes: float64(2), int64(5), object(5)\nmemory usage: 83.7+ KB\n<class 'pandas.core.frame.DataFrame'>\nRangeIndex: 418 entries, 0 to 417\nData columns (total 11 columns):\n #   Column       Non-Null Count  Dtype  \n---  ------       --------------  -----  \n 0   PassengerId  418 non-null    int64  \n 1   Pclass       418 non-null    int64  \n 2   Name         418 non-null    object \n 3   Sex          418 non-null    object \n 4   Age          332 non-null    float64\n 5   SibSp        418 non-null    int64  \n 6   Parch        418 non-null    int64  \n 7   Ticket       418 non-null    object \n 8   Fare         417 non-null    float64\n 9   Cabin        91 non-null     object \n 10  Embarked     418 non-null    object \ndtypes: float64(2), int64(4), object(5)\nmemory usage: 36.0+ KB\n"
    }
   ],
   "source": [
    "train.info()\n",
    "test.info()"
   ]
  },
  {
   "cell_type": "markdown",
   "metadata": {},
   "source": [
    "1.4 Calculer le taux global de survie"
   ]
  },
  {
   "cell_type": "code",
   "execution_count": 166,
   "metadata": {},
   "outputs": [
    {
     "output_type": "execute_result",
     "data": {
      "text/plain": "0.3838383838383838"
     },
     "metadata": {},
     "execution_count": 166
    }
   ],
   "source": [
    "survived = train['Survived'].mean()\n",
    "survived"
   ]
  },
  {
   "cell_type": "markdown",
   "metadata": {},
   "source": [
    "\n"
   ]
  },
  {
   "cell_type": "markdown",
   "metadata": {},
   "source": [
    "#### Question 1 : Quel Travail voyez-vous pour que les données soient prêtes à faire tourner dans un modèle ?\n",
    "\n",
    "Il faut mettre une constante sur les collones Sex, PClass, Embarked, Age\n",
    "\n",
    "#### Question 2 : Quelle différence y-a-t'il entre les données train et les données test ? \n",
    "\n",
    "Il y a une colonne en plus dans train, la colonne survived.\n",
    "\n",
    "\n",
    "#### Question 3 : Quel est le rôle de ces deux sets de données ?\n",
    "Définir les nombres de personnes survivantes dans dans le fichier test.csv à partir de passenger.csv"
   ]
  },
  {
   "cell_type": "markdown",
   "metadata": {
    "_cell_guid": "f9595646-65c9-6fc4-395f-0befc4d122ce",
    "_uuid": "66273d64a2548d7a88464ab2a73dbdedfbdc488b"
   },
   "source": [
    "## 2. Analyse des features"
   ]
  },
  {
   "cell_type": "markdown",
   "metadata": {
    "_cell_guid": "9b4c278b-aaca-e92c-ba77-b9b48379d1f1",
    "_uuid": "c2b62e14d493c270ec8df9f3af1938c479361ef3"
   },
   "source": [
    "2.1 Analyser l'effet de la variable Classe sur le taux de survie, en affichant le % de survie par classe"
   ]
  },
  {
   "cell_type": "code",
   "execution_count": 167,
   "metadata": {},
   "outputs": [
    {
     "output_type": "execute_result",
     "data": {
      "text/plain": "         Survived\nPclass           \n1       62.962963\n2       47.282609\n3       24.236253",
      "text/html": "<div>\n<style scoped>\n    .dataframe tbody tr th:only-of-type {\n        vertical-align: middle;\n    }\n\n    .dataframe tbody tr th {\n        vertical-align: top;\n    }\n\n    .dataframe thead th {\n        text-align: right;\n    }\n</style>\n<table border=\"1\" class=\"dataframe\">\n  <thead>\n    <tr style=\"text-align: right;\">\n      <th></th>\n      <th>Survived</th>\n    </tr>\n    <tr>\n      <th>Pclass</th>\n      <th></th>\n    </tr>\n  </thead>\n  <tbody>\n    <tr>\n      <th>1</th>\n      <td>62.962963</td>\n    </tr>\n    <tr>\n      <th>2</th>\n      <td>47.282609</td>\n    </tr>\n    <tr>\n      <th>3</th>\n      <td>24.236253</td>\n    </tr>\n  </tbody>\n</table>\n</div>"
     },
     "metadata": {},
     "execution_count": 167
    }
   ],
   "source": [
    "survived_by_group = train[['Survived','Pclass']].groupby(['Pclass']).mean() *100\n",
    "survived_by_group\n"
   ]
  },
  {
   "cell_type": "markdown",
   "metadata": {
    "_cell_guid": "4680d950-cf7d-a6ae-e813-535e2247d88e",
    "_uuid": "f02533e7b85bba0cca7fcf2cc598c8da92d7646d"
   },
   "source": [
    "2.2 Analyser l'effet de la variable Genre (Sex) sur le taux de survie, en affichant le % de survie par classe"
   ]
  },
  {
   "cell_type": "code",
   "execution_count": 168,
   "metadata": {
    "_cell_guid": "4680d950-cf7d-a6ae-e813-535e2247d88e",
    "_uuid": "f02533e7b85bba0cca7fcf2cc598c8da92d7646d"
   },
   "outputs": [
    {
     "output_type": "execute_result",
     "data": {
      "text/plain": "                Survived\nSex    Pclass           \nfemale 1       96.808511\n       2       92.105263\n       3       50.000000\nmale   1       36.885246\n       2       15.740741\n       3       13.544669",
      "text/html": "<div>\n<style scoped>\n    .dataframe tbody tr th:only-of-type {\n        vertical-align: middle;\n    }\n\n    .dataframe tbody tr th {\n        vertical-align: top;\n    }\n\n    .dataframe thead th {\n        text-align: right;\n    }\n</style>\n<table border=\"1\" class=\"dataframe\">\n  <thead>\n    <tr style=\"text-align: right;\">\n      <th></th>\n      <th></th>\n      <th>Survived</th>\n    </tr>\n    <tr>\n      <th>Sex</th>\n      <th>Pclass</th>\n      <th></th>\n    </tr>\n  </thead>\n  <tbody>\n    <tr>\n      <th rowspan=\"3\" valign=\"top\">female</th>\n      <th>1</th>\n      <td>96.808511</td>\n    </tr>\n    <tr>\n      <th>2</th>\n      <td>92.105263</td>\n    </tr>\n    <tr>\n      <th>3</th>\n      <td>50.000000</td>\n    </tr>\n    <tr>\n      <th rowspan=\"3\" valign=\"top\">male</th>\n      <th>1</th>\n      <td>36.885246</td>\n    </tr>\n    <tr>\n      <th>2</th>\n      <td>15.740741</td>\n    </tr>\n    <tr>\n      <th>3</th>\n      <td>13.544669</td>\n    </tr>\n  </tbody>\n</table>\n</div>"
     },
     "metadata": {},
     "execution_count": 168
    }
   ],
   "source": [
    "survived_by_sex = train[['Survived','Sex','Pclass']].groupby(['Sex', 'Pclass']).mean() *100\n",
    "survived_by_sex"
   ]
  },
  {
   "cell_type": "markdown",
   "metadata": {
    "_cell_guid": "7c58b7ee-d6a1-0cc9-2346-81c47846a54a",
    "_uuid": "88185e9222c26d5d23caaeb209c18710a231b5f9"
   },
   "source": [
    "2.3 Calculer une nouvelle colonne FamilySize contenant la taille de la famille, pour les DataFrame train et Test. Afficher pour 10 exemples l'Id du passager, le nom, l'age, le sexe et la taille de la famille."
   ]
  },
  {
   "cell_type": "code",
   "execution_count": 169,
   "metadata": {
    "_cell_guid": "1a537f10-7cec-d0b7-8a34-fa9975655190",
    "_uuid": "ccc4a4cf7624dd4be450fd62ca3ad478d4e75696"
   },
   "outputs": [
    {
     "output_type": "execute_result",
     "data": {
      "text/plain": "   PassengerId                                          Name   Age  FamilySize\n0          892                              Kelly, Mr. James  34.5           1\n1          893              Wilkes, Mrs. James (Ellen Needs)  47.0           2\n2          894                     Myles, Mr. Thomas Francis  62.0           1\n3          895                              Wirz, Mr. Albert  27.0           1\n4          896  Hirvonen, Mrs. Alexander (Helga E Lindqvist)  22.0           3\n5          897                    Svensson, Mr. Johan Cervin  14.0           1\n6          898                          Connolly, Miss. Kate  30.0           1\n7          899                  Caldwell, Mr. Albert Francis  26.0           3\n8          900     Abrahim, Mrs. Joseph (Sophie Halaut Easu)  18.0           1\n9          901                       Davies, Mr. John Samuel  21.0           3",
      "text/html": "<div>\n<style scoped>\n    .dataframe tbody tr th:only-of-type {\n        vertical-align: middle;\n    }\n\n    .dataframe tbody tr th {\n        vertical-align: top;\n    }\n\n    .dataframe thead th {\n        text-align: right;\n    }\n</style>\n<table border=\"1\" class=\"dataframe\">\n  <thead>\n    <tr style=\"text-align: right;\">\n      <th></th>\n      <th>PassengerId</th>\n      <th>Name</th>\n      <th>Age</th>\n      <th>FamilySize</th>\n    </tr>\n  </thead>\n  <tbody>\n    <tr>\n      <th>0</th>\n      <td>892</td>\n      <td>Kelly, Mr. James</td>\n      <td>34.5</td>\n      <td>1</td>\n    </tr>\n    <tr>\n      <th>1</th>\n      <td>893</td>\n      <td>Wilkes, Mrs. James (Ellen Needs)</td>\n      <td>47.0</td>\n      <td>2</td>\n    </tr>\n    <tr>\n      <th>2</th>\n      <td>894</td>\n      <td>Myles, Mr. Thomas Francis</td>\n      <td>62.0</td>\n      <td>1</td>\n    </tr>\n    <tr>\n      <th>3</th>\n      <td>895</td>\n      <td>Wirz, Mr. Albert</td>\n      <td>27.0</td>\n      <td>1</td>\n    </tr>\n    <tr>\n      <th>4</th>\n      <td>896</td>\n      <td>Hirvonen, Mrs. Alexander (Helga E Lindqvist)</td>\n      <td>22.0</td>\n      <td>3</td>\n    </tr>\n    <tr>\n      <th>5</th>\n      <td>897</td>\n      <td>Svensson, Mr. Johan Cervin</td>\n      <td>14.0</td>\n      <td>1</td>\n    </tr>\n    <tr>\n      <th>6</th>\n      <td>898</td>\n      <td>Connolly, Miss. Kate</td>\n      <td>30.0</td>\n      <td>1</td>\n    </tr>\n    <tr>\n      <th>7</th>\n      <td>899</td>\n      <td>Caldwell, Mr. Albert Francis</td>\n      <td>26.0</td>\n      <td>3</td>\n    </tr>\n    <tr>\n      <th>8</th>\n      <td>900</td>\n      <td>Abrahim, Mrs. Joseph (Sophie Halaut Easu)</td>\n      <td>18.0</td>\n      <td>1</td>\n    </tr>\n    <tr>\n      <th>9</th>\n      <td>901</td>\n      <td>Davies, Mr. John Samuel</td>\n      <td>21.0</td>\n      <td>3</td>\n    </tr>\n  </tbody>\n</table>\n</div>"
     },
     "metadata": {},
     "execution_count": 169
    }
   ],
   "source": [
    "train['FamilySize'] = train['SibSp'] + train['Parch'] + 1\n",
    "train[['PassengerId','Name','Age','FamilySize']].head(10)\n",
    "\n",
    "test['FamilySize'] = test['SibSp'] + test['Parch'] + 1\n",
    "test[['PassengerId','Name','Age','FamilySize']].head(10)"
   ]
  },
  {
   "cell_type": "markdown",
   "metadata": {},
   "source": [
    "2.4 Visualisez le nombre de personnes et le taux de survie par taille de famille."
   ]
  },
  {
   "cell_type": "code",
   "execution_count": 170,
   "metadata": {
    "_cell_guid": "1a537f10-7cec-d0b7-8a34-fa9975655190",
    "_uuid": "ccc4a4cf7624dd4be450fd62ca3ad478d4e75696"
   },
   "outputs": [
    {
     "output_type": "execute_result",
     "data": {
      "text/plain": "            Survived  Survived\nFamilySize                    \n1           0.303538       537\n2           0.552795       161\n3           0.578431       102\n4           0.724138        29\n5           0.200000        15\n6           0.136364        22\n7           0.333333        12\n8           0.000000         6\n11          0.000000         7",
      "text/html": "<div>\n<style scoped>\n    .dataframe tbody tr th:only-of-type {\n        vertical-align: middle;\n    }\n\n    .dataframe tbody tr th {\n        vertical-align: top;\n    }\n\n    .dataframe thead th {\n        text-align: right;\n    }\n</style>\n<table border=\"1\" class=\"dataframe\">\n  <thead>\n    <tr style=\"text-align: right;\">\n      <th></th>\n      <th>Survived</th>\n      <th>Survived</th>\n    </tr>\n    <tr>\n      <th>FamilySize</th>\n      <th></th>\n      <th></th>\n    </tr>\n  </thead>\n  <tbody>\n    <tr>\n      <th>1</th>\n      <td>0.303538</td>\n      <td>537</td>\n    </tr>\n    <tr>\n      <th>2</th>\n      <td>0.552795</td>\n      <td>161</td>\n    </tr>\n    <tr>\n      <th>3</th>\n      <td>0.578431</td>\n      <td>102</td>\n    </tr>\n    <tr>\n      <th>4</th>\n      <td>0.724138</td>\n      <td>29</td>\n    </tr>\n    <tr>\n      <th>5</th>\n      <td>0.200000</td>\n      <td>15</td>\n    </tr>\n    <tr>\n      <th>6</th>\n      <td>0.136364</td>\n      <td>22</td>\n    </tr>\n    <tr>\n      <th>7</th>\n      <td>0.333333</td>\n      <td>12</td>\n    </tr>\n    <tr>\n      <th>8</th>\n      <td>0.000000</td>\n      <td>6</td>\n    </tr>\n    <tr>\n      <th>11</th>\n      <td>0.000000</td>\n      <td>7</td>\n    </tr>\n  </tbody>\n</table>\n</div>"
     },
     "metadata": {},
     "execution_count": 170
    }
   ],
   "source": [
    "frames = [train[['FamilySize', 'Survived']].groupby(['FamilySize']).mean(), train[['Survived', 'FamilySize']].groupby('FamilySize').count()]\n",
    "pd.concat(frames, axis=1, sort=False)"
   ]
  },
  {
   "cell_type": "markdown",
   "metadata": {
    "_cell_guid": "7c58b7ee-d6a1-0cc9-2346-81c47846a54a",
    "_uuid": "88185e9222c26d5d23caaeb209c18710a231b5f9"
   },
   "source": [
    "2.5 Calculer une nouvelle colonne IsAlone indiquant si le passager est seul ou pas, pour les DataFrame train et Test. Afficher pour 10 exemples l'Id du passager, le nom, l'age, le sexe et le status IsAlone."
   ]
  },
  {
   "cell_type": "code",
   "execution_count": 171,
   "metadata": {
    "_cell_guid": "8c35e945-c928-e3bc-bd9c-d6ddb287e4c9",
    "_uuid": "87f79dc0711c29f39c0db1a4f7a2e8a84c0c7edb"
   },
   "outputs": [
    {
     "output_type": "execute_result",
     "data": {
      "text/plain": "   PassengerId                                          Name   Age  IsAlone\n0          892                              Kelly, Mr. James  34.5        1\n1          893              Wilkes, Mrs. James (Ellen Needs)  47.0        0\n2          894                     Myles, Mr. Thomas Francis  62.0        1\n3          895                              Wirz, Mr. Albert  27.0        1\n4          896  Hirvonen, Mrs. Alexander (Helga E Lindqvist)  22.0        0\n5          897                    Svensson, Mr. Johan Cervin  14.0        1\n6          898                          Connolly, Miss. Kate  30.0        1\n7          899                  Caldwell, Mr. Albert Francis  26.0        0\n8          900     Abrahim, Mrs. Joseph (Sophie Halaut Easu)  18.0        1\n9          901                       Davies, Mr. John Samuel  21.0        0",
      "text/html": "<div>\n<style scoped>\n    .dataframe tbody tr th:only-of-type {\n        vertical-align: middle;\n    }\n\n    .dataframe tbody tr th {\n        vertical-align: top;\n    }\n\n    .dataframe thead th {\n        text-align: right;\n    }\n</style>\n<table border=\"1\" class=\"dataframe\">\n  <thead>\n    <tr style=\"text-align: right;\">\n      <th></th>\n      <th>PassengerId</th>\n      <th>Name</th>\n      <th>Age</th>\n      <th>IsAlone</th>\n    </tr>\n  </thead>\n  <tbody>\n    <tr>\n      <th>0</th>\n      <td>892</td>\n      <td>Kelly, Mr. James</td>\n      <td>34.5</td>\n      <td>1</td>\n    </tr>\n    <tr>\n      <th>1</th>\n      <td>893</td>\n      <td>Wilkes, Mrs. James (Ellen Needs)</td>\n      <td>47.0</td>\n      <td>0</td>\n    </tr>\n    <tr>\n      <th>2</th>\n      <td>894</td>\n      <td>Myles, Mr. Thomas Francis</td>\n      <td>62.0</td>\n      <td>1</td>\n    </tr>\n    <tr>\n      <th>3</th>\n      <td>895</td>\n      <td>Wirz, Mr. Albert</td>\n      <td>27.0</td>\n      <td>1</td>\n    </tr>\n    <tr>\n      <th>4</th>\n      <td>896</td>\n      <td>Hirvonen, Mrs. Alexander (Helga E Lindqvist)</td>\n      <td>22.0</td>\n      <td>0</td>\n    </tr>\n    <tr>\n      <th>5</th>\n      <td>897</td>\n      <td>Svensson, Mr. Johan Cervin</td>\n      <td>14.0</td>\n      <td>1</td>\n    </tr>\n    <tr>\n      <th>6</th>\n      <td>898</td>\n      <td>Connolly, Miss. Kate</td>\n      <td>30.0</td>\n      <td>1</td>\n    </tr>\n    <tr>\n      <th>7</th>\n      <td>899</td>\n      <td>Caldwell, Mr. Albert Francis</td>\n      <td>26.0</td>\n      <td>0</td>\n    </tr>\n    <tr>\n      <th>8</th>\n      <td>900</td>\n      <td>Abrahim, Mrs. Joseph (Sophie Halaut Easu)</td>\n      <td>18.0</td>\n      <td>1</td>\n    </tr>\n    <tr>\n      <th>9</th>\n      <td>901</td>\n      <td>Davies, Mr. John Samuel</td>\n      <td>21.0</td>\n      <td>0</td>\n    </tr>\n  </tbody>\n</table>\n</div>"
     },
     "metadata": {},
     "execution_count": 171
    }
   ],
   "source": [
    "train['IsAlone'] = train.FamilySize.map(lambda x: 1 if x == 1 else 0)\n",
    "train[['PassengerId','Name','Age','IsAlone']].head(10)\n",
    "test['IsAlone'] = test.FamilySize.map(lambda x: 1 if x == 1 else 0)\n",
    "test[['PassengerId','Name','Age','IsAlone']].head(10)"
   ]
  },
  {
   "cell_type": "markdown",
   "metadata": {},
   "source": [
    "2.6 Visualisez le nombre de personnes et le taux de survie par statut seul ou pas."
   ]
  },
  {
   "cell_type": "code",
   "execution_count": 172,
   "metadata": {
    "_cell_guid": "8c35e945-c928-e3bc-bd9c-d6ddb287e4c9",
    "_uuid": "87f79dc0711c29f39c0db1a4f7a2e8a84c0c7edb"
   },
   "outputs": [
    {
     "output_type": "execute_result",
     "data": {
      "text/plain": "         Survived  Survived\nIsAlone                    \n0        0.505650       354\n1        0.303538       537",
      "text/html": "<div>\n<style scoped>\n    .dataframe tbody tr th:only-of-type {\n        vertical-align: middle;\n    }\n\n    .dataframe tbody tr th {\n        vertical-align: top;\n    }\n\n    .dataframe thead th {\n        text-align: right;\n    }\n</style>\n<table border=\"1\" class=\"dataframe\">\n  <thead>\n    <tr style=\"text-align: right;\">\n      <th></th>\n      <th>Survived</th>\n      <th>Survived</th>\n    </tr>\n    <tr>\n      <th>IsAlone</th>\n      <th></th>\n      <th></th>\n    </tr>\n  </thead>\n  <tbody>\n    <tr>\n      <th>0</th>\n      <td>0.505650</td>\n      <td>354</td>\n    </tr>\n    <tr>\n      <th>1</th>\n      <td>0.303538</td>\n      <td>537</td>\n    </tr>\n  </tbody>\n</table>\n</div>"
     },
     "metadata": {},
     "execution_count": 172
    }
   ],
   "source": [
    "frames = [train[['IsAlone', 'Survived']].groupby(['IsAlone']).mean(), train[['IsAlone', 'Survived']].groupby('IsAlone').count()]\n",
    "pd.concat(frames, axis=1, sort=False)"
   ]
  },
  {
   "cell_type": "markdown",
   "metadata": {},
   "source": [
    "### Question 1 : La variable Classe est-elle utile pour prévoir la survie ? Pourquoi ?\n",
    "\n",
    "Oui elle peut l'être, car en effet on remarque des différence de survie celon la classe\n",
    "\n",
    "### Question 2 : Même question pour la variable Sex \n",
    "\n",
    "De même pour la variable Sex\n",
    "\n",
    "### Question 3 : Comment traiter le variables liées à la famille du passager ?\n",
    "\n",
    "Il faut voir la taille d'un famille par passagé et classé les passager par taille de famille pour définir si oui ou non la donnée influx sur le taux de survie\n"
   ]
  },
  {
   "cell_type": "markdown",
   "metadata": {},
   "source": [
    "## 3. Traitement des données manquantes (à faire sur les données Train et Test)"
   ]
  },
  {
   "cell_type": "markdown",
   "metadata": {
    "_cell_guid": "8aa419c0-6614-7efc-7797-97f4a5158b19",
    "_uuid": "dd18a31086cfeca6330b05f83caf3cc02f687253"
   },
   "source": [
    "3.1 La variable \"Embarked\" possède des valeurs nulles, compléter par la valeur majoritaire (S)."
   ]
  },
  {
   "cell_type": "code",
   "execution_count": 173,
   "metadata": {
    "_cell_guid": "0e70e9af-d7cc-8c40-b7d4-2643889c376d",
    "_uuid": "b4f7ccb3df98da6915bda1c7c225b905fc37845b"
   },
   "outputs": [
    {
     "output_type": "execute_result",
     "data": {
      "text/plain": "     PassengerId  Survived  Pclass                                Name  \\\n341          342         1       1      Fortune, Miss. Alice Elizabeth   \n641          642         1       1                Sagesser, Mlle. Emma   \n118          119         0       1            Baxter, Mr. Quigg Edmond   \n835          836         1       1         Compton, Miss. Sara Rebecca   \n447          448         1       1         Seward, Mr. Frederic Kimber   \n833          834         0       3              Augustsson, Mr. Albert   \n301          302         1       3                  McCoy, Mr. Bernard   \n401          402         0       3                     Adams, Mr. John   \n866          867         1       2        Duran y More, Miss. Asuncion   \n539          540         1       1  Frolicher, Miss. Hedwig Margaritha   \n\n        Sex   Age  SibSp  Parch         Ticket      Fare        Cabin  \\\n341  female  24.0      3      2          19950  263.0000  C23 C25 C27   \n641  female  24.0      0      0       PC 17477   69.3000          B35   \n118    male  24.0      0      1       PC 17558  247.5208      B58 B60   \n835  female  39.0      1      1       PC 17756   83.1583          E49   \n447    male  34.0      0      0         113794   26.5500          NaN   \n833    male  23.0      0      0         347468    7.8542          NaN   \n301    male   NaN      2      0         367226   23.2500          NaN   \n401    male  26.0      0      0         341826    8.0500          NaN   \n866  female  27.0      1      0  SC/PARIS 2149   13.8583          NaN   \n539  female  22.0      0      2          13568   49.5000          B39   \n\n    Embarked  FamilySize  IsAlone  \n341        S           6        0  \n641        C           1        1  \n118        C           2        0  \n835        C           3        0  \n447        S           1        1  \n833        S           1        1  \n301        Q           3        0  \n401        S           1        1  \n866        C           2        0  \n539        C           3        0  ",
      "text/html": "<div>\n<style scoped>\n    .dataframe tbody tr th:only-of-type {\n        vertical-align: middle;\n    }\n\n    .dataframe tbody tr th {\n        vertical-align: top;\n    }\n\n    .dataframe thead th {\n        text-align: right;\n    }\n</style>\n<table border=\"1\" class=\"dataframe\">\n  <thead>\n    <tr style=\"text-align: right;\">\n      <th></th>\n      <th>PassengerId</th>\n      <th>Survived</th>\n      <th>Pclass</th>\n      <th>Name</th>\n      <th>Sex</th>\n      <th>Age</th>\n      <th>SibSp</th>\n      <th>Parch</th>\n      <th>Ticket</th>\n      <th>Fare</th>\n      <th>Cabin</th>\n      <th>Embarked</th>\n      <th>FamilySize</th>\n      <th>IsAlone</th>\n    </tr>\n  </thead>\n  <tbody>\n    <tr>\n      <th>341</th>\n      <td>342</td>\n      <td>1</td>\n      <td>1</td>\n      <td>Fortune, Miss. Alice Elizabeth</td>\n      <td>female</td>\n      <td>24.0</td>\n      <td>3</td>\n      <td>2</td>\n      <td>19950</td>\n      <td>263.0000</td>\n      <td>C23 C25 C27</td>\n      <td>S</td>\n      <td>6</td>\n      <td>0</td>\n    </tr>\n    <tr>\n      <th>641</th>\n      <td>642</td>\n      <td>1</td>\n      <td>1</td>\n      <td>Sagesser, Mlle. Emma</td>\n      <td>female</td>\n      <td>24.0</td>\n      <td>0</td>\n      <td>0</td>\n      <td>PC 17477</td>\n      <td>69.3000</td>\n      <td>B35</td>\n      <td>C</td>\n      <td>1</td>\n      <td>1</td>\n    </tr>\n    <tr>\n      <th>118</th>\n      <td>119</td>\n      <td>0</td>\n      <td>1</td>\n      <td>Baxter, Mr. Quigg Edmond</td>\n      <td>male</td>\n      <td>24.0</td>\n      <td>0</td>\n      <td>1</td>\n      <td>PC 17558</td>\n      <td>247.5208</td>\n      <td>B58 B60</td>\n      <td>C</td>\n      <td>2</td>\n      <td>0</td>\n    </tr>\n    <tr>\n      <th>835</th>\n      <td>836</td>\n      <td>1</td>\n      <td>1</td>\n      <td>Compton, Miss. Sara Rebecca</td>\n      <td>female</td>\n      <td>39.0</td>\n      <td>1</td>\n      <td>1</td>\n      <td>PC 17756</td>\n      <td>83.1583</td>\n      <td>E49</td>\n      <td>C</td>\n      <td>3</td>\n      <td>0</td>\n    </tr>\n    <tr>\n      <th>447</th>\n      <td>448</td>\n      <td>1</td>\n      <td>1</td>\n      <td>Seward, Mr. Frederic Kimber</td>\n      <td>male</td>\n      <td>34.0</td>\n      <td>0</td>\n      <td>0</td>\n      <td>113794</td>\n      <td>26.5500</td>\n      <td>NaN</td>\n      <td>S</td>\n      <td>1</td>\n      <td>1</td>\n    </tr>\n    <tr>\n      <th>833</th>\n      <td>834</td>\n      <td>0</td>\n      <td>3</td>\n      <td>Augustsson, Mr. Albert</td>\n      <td>male</td>\n      <td>23.0</td>\n      <td>0</td>\n      <td>0</td>\n      <td>347468</td>\n      <td>7.8542</td>\n      <td>NaN</td>\n      <td>S</td>\n      <td>1</td>\n      <td>1</td>\n    </tr>\n    <tr>\n      <th>301</th>\n      <td>302</td>\n      <td>1</td>\n      <td>3</td>\n      <td>McCoy, Mr. Bernard</td>\n      <td>male</td>\n      <td>NaN</td>\n      <td>2</td>\n      <td>0</td>\n      <td>367226</td>\n      <td>23.2500</td>\n      <td>NaN</td>\n      <td>Q</td>\n      <td>3</td>\n      <td>0</td>\n    </tr>\n    <tr>\n      <th>401</th>\n      <td>402</td>\n      <td>0</td>\n      <td>3</td>\n      <td>Adams, Mr. John</td>\n      <td>male</td>\n      <td>26.0</td>\n      <td>0</td>\n      <td>0</td>\n      <td>341826</td>\n      <td>8.0500</td>\n      <td>NaN</td>\n      <td>S</td>\n      <td>1</td>\n      <td>1</td>\n    </tr>\n    <tr>\n      <th>866</th>\n      <td>867</td>\n      <td>1</td>\n      <td>2</td>\n      <td>Duran y More, Miss. Asuncion</td>\n      <td>female</td>\n      <td>27.0</td>\n      <td>1</td>\n      <td>0</td>\n      <td>SC/PARIS 2149</td>\n      <td>13.8583</td>\n      <td>NaN</td>\n      <td>C</td>\n      <td>2</td>\n      <td>0</td>\n    </tr>\n    <tr>\n      <th>539</th>\n      <td>540</td>\n      <td>1</td>\n      <td>1</td>\n      <td>Frolicher, Miss. Hedwig Margaritha</td>\n      <td>female</td>\n      <td>22.0</td>\n      <td>0</td>\n      <td>2</td>\n      <td>13568</td>\n      <td>49.5000</td>\n      <td>B39</td>\n      <td>C</td>\n      <td>3</td>\n      <td>0</td>\n    </tr>\n  </tbody>\n</table>\n</div>"
     },
     "metadata": {},
     "execution_count": 173
    }
   ],
   "source": [
    "train['Embarked'].fillna('S', inplace=True)\n",
    "train.sample(10)"
   ]
  },
  {
   "cell_type": "markdown",
   "metadata": {},
   "source": [
    "3.2 Afficher l'influence du port d'embarquement sur la Survie "
   ]
  },
  {
   "cell_type": "code",
   "execution_count": 174,
   "metadata": {
    "_cell_guid": "0e70e9af-d7cc-8c40-b7d4-2643889c376d",
    "_uuid": "b4f7ccb3df98da6915bda1c7c225b905fc37845b"
   },
   "outputs": [
    {
     "output_type": "execute_result",
     "data": {
      "text/plain": "           Survived\nEmbarked           \nC         55.357143\nQ         38.961039\nS         33.900929",
      "text/html": "<div>\n<style scoped>\n    .dataframe tbody tr th:only-of-type {\n        vertical-align: middle;\n    }\n\n    .dataframe tbody tr th {\n        vertical-align: top;\n    }\n\n    .dataframe thead th {\n        text-align: right;\n    }\n</style>\n<table border=\"1\" class=\"dataframe\">\n  <thead>\n    <tr style=\"text-align: right;\">\n      <th></th>\n      <th>Survived</th>\n    </tr>\n    <tr>\n      <th>Embarked</th>\n      <th></th>\n    </tr>\n  </thead>\n  <tbody>\n    <tr>\n      <th>C</th>\n      <td>55.357143</td>\n    </tr>\n    <tr>\n      <th>Q</th>\n      <td>38.961039</td>\n    </tr>\n    <tr>\n      <th>S</th>\n      <td>33.900929</td>\n    </tr>\n  </tbody>\n</table>\n</div>"
     },
     "metadata": {},
     "execution_count": 174
    }
   ],
   "source": [
    "train[['Embarked','Survived']].groupby(['Embarked']).mean() * 100"
   ]
  },
  {
   "cell_type": "markdown",
   "metadata": {
    "_cell_guid": "e08c9ee8-d6d1-99b7-38bd-f0042c18a5d9",
    "_uuid": "bbeb369d4bb1b086fcc3257218fdeeb6bcdb53c0"
   },
   "source": [
    "3.3 La variable \"Fare\" (prix du ticket) possède des valeurs manquantes. Remplacer ces valeurs par la valeur médiane."
   ]
  },
  {
   "cell_type": "code",
   "execution_count": 175,
   "metadata": {
    "_cell_guid": "a21335bd-4e8d-66e8-e6a5-5d2173b72d3b",
    "_uuid": "f04975f236aad78d3f93812512088404b5c9280e"
   },
   "outputs": [],
   "source": [
    "train.Fare.fillna(train.Fare.median(), inplace=True)"
   ]
  },
  {
   "cell_type": "markdown",
   "metadata": {},
   "source": [
    "3.4 Créer une variable CategoricalFare Découpant la valeur de ticket en 4 catégories de tailles à peu près égales. "
   ]
  },
  {
   "cell_type": "code",
   "execution_count": 176,
   "metadata": {
    "_cell_guid": "a21335bd-4e8d-66e8-e6a5-5d2173b72d3b",
    "_uuid": "f04975f236aad78d3f93812512088404b5c9280e"
   },
   "outputs": [],
   "source": [
    "train['CategoricalFare'] = pd.qcut(train['Fare'], 4)"
   ]
  },
  {
   "cell_type": "markdown",
   "metadata": {},
   "source": [
    "3.5 Analyser l'effet de ces catégories de prix de ticket sur la survie."
   ]
  },
  {
   "cell_type": "code",
   "execution_count": 177,
   "metadata": {
    "_cell_guid": "a21335bd-4e8d-66e8-e6a5-5d2173b72d3b",
    "_uuid": "f04975f236aad78d3f93812512088404b5c9280e"
   },
   "outputs": [
    {
     "output_type": "execute_result",
     "data": {
      "text/plain": "                 Survived\nCategoricalFare          \n(-0.001, 7.91]   0.197309\n(7.91, 14.454]   0.303571\n(14.454, 31.0]   0.454955\n(31.0, 512.329]  0.581081",
      "text/html": "<div>\n<style scoped>\n    .dataframe tbody tr th:only-of-type {\n        vertical-align: middle;\n    }\n\n    .dataframe tbody tr th {\n        vertical-align: top;\n    }\n\n    .dataframe thead th {\n        text-align: right;\n    }\n</style>\n<table border=\"1\" class=\"dataframe\">\n  <thead>\n    <tr style=\"text-align: right;\">\n      <th></th>\n      <th>Survived</th>\n    </tr>\n    <tr>\n      <th>CategoricalFare</th>\n      <th></th>\n    </tr>\n  </thead>\n  <tbody>\n    <tr>\n      <th>(-0.001, 7.91]</th>\n      <td>0.197309</td>\n    </tr>\n    <tr>\n      <th>(7.91, 14.454]</th>\n      <td>0.303571</td>\n    </tr>\n    <tr>\n      <th>(14.454, 31.0]</th>\n      <td>0.454955</td>\n    </tr>\n    <tr>\n      <th>(31.0, 512.329]</th>\n      <td>0.581081</td>\n    </tr>\n  </tbody>\n</table>\n</div>"
     },
     "metadata": {},
     "execution_count": 177
    }
   ],
   "source": [
    "train[['CategoricalFare', 'Survived']].groupby(['CategoricalFare']).mean()"
   ]
  },
  {
   "cell_type": "markdown",
   "metadata": {},
   "source": [
    "3.6 Combien de valeurs d'Age manquent ? Complète par des valeurs entières aléatoires entre (moyenne - écart type) et (moyenne + écart type)."
   ]
  },
  {
   "cell_type": "code",
   "execution_count": 178,
   "metadata": {
    "_cell_guid": "b90c2870-ce5d-ae0e-a33d-59e35445500e",
    "_uuid": "2af2b56d51752be08b84dbb2684466976758faa7"
   },
   "outputs": [],
   "source": [
    "train.loc[train.Age.isna()].PassengerId.count()\n",
    "train.Age.fillna(np.random.randint(train.Age.mean() - train.Age.std(), train.Age.mean() + train.Age.std()), inplace=True)"
   ]
  },
  {
   "cell_type": "markdown",
   "metadata": {},
   "source": [
    "3.7 Créer une variable CategoricalAge Découpant la valeur d'age en 5 catégories égales. "
   ]
  },
  {
   "cell_type": "code",
   "execution_count": 179,
   "metadata": {
    "_cell_guid": "b90c2870-ce5d-ae0e-a33d-59e35445500e",
    "_uuid": "2af2b56d51752be08b84dbb2684466976758faa7"
   },
   "outputs": [
    {
     "output_type": "execute_result",
     "data": {
      "text/plain": "0       (20.0, 27.0]\n1       (28.0, 38.0]\n2       (20.0, 27.0]\n3       (28.0, 38.0]\n4       (28.0, 38.0]\n           ...      \n886     (20.0, 27.0]\n887    (0.419, 20.0]\n888     (20.0, 27.0]\n889     (20.0, 27.0]\n890     (28.0, 38.0]\nName: CategoricalAge, Length: 891, dtype: category\nCategories (5, interval[float64]): [(0.419, 20.0] < (20.0, 27.0] < (27.0, 28.0] < (28.0, 38.0] < (38.0, 80.0]]"
     },
     "metadata": {},
     "execution_count": 179
    }
   ],
   "source": [
    "train['CategoricalAge'] = pd.qcut(train.Age, 5)\n",
    "train.CategoricalAge"
   ]
  },
  {
   "cell_type": "markdown",
   "metadata": {},
   "source": [
    "3.8 Analyser l'effet de ces catégories de prix de ticket sur la survie."
   ]
  },
  {
   "cell_type": "code",
   "execution_count": 180,
   "metadata": {},
   "outputs": [
    {
     "output_type": "execute_result",
     "data": {
      "text/plain": "                Survived\nCategoricalAge          \n(0.419, 20.0]   0.458101\n(20.0, 27.0]    0.331343\n(27.0, 28.0]    0.280000\n(28.0, 38.0]    0.434286\n(38.0, 80.0]    0.372881",
      "text/html": "<div>\n<style scoped>\n    .dataframe tbody tr th:only-of-type {\n        vertical-align: middle;\n    }\n\n    .dataframe tbody tr th {\n        vertical-align: top;\n    }\n\n    .dataframe thead th {\n        text-align: right;\n    }\n</style>\n<table border=\"1\" class=\"dataframe\">\n  <thead>\n    <tr style=\"text-align: right;\">\n      <th></th>\n      <th>Survived</th>\n    </tr>\n    <tr>\n      <th>CategoricalAge</th>\n      <th></th>\n    </tr>\n  </thead>\n  <tbody>\n    <tr>\n      <th>(0.419, 20.0]</th>\n      <td>0.458101</td>\n    </tr>\n    <tr>\n      <th>(20.0, 27.0]</th>\n      <td>0.331343</td>\n    </tr>\n    <tr>\n      <th>(27.0, 28.0]</th>\n      <td>0.280000</td>\n    </tr>\n    <tr>\n      <th>(28.0, 38.0]</th>\n      <td>0.434286</td>\n    </tr>\n    <tr>\n      <th>(38.0, 80.0]</th>\n      <td>0.372881</td>\n    </tr>\n  </tbody>\n</table>\n</div>"
     },
     "metadata": {},
     "execution_count": 180
    }
   ],
   "source": [
    "train[['CategoricalAge', 'Survived']].groupby(['CategoricalAge']).mean()"
   ]
  },
  {
   "cell_type": "markdown",
   "metadata": {},
   "source": [
    "### Question 1 : Classer les variables par ordre d'intérêt\n",
    "\n",
    "Le sexe, age, la catégorie socio-économique, embarquement"
   ]
  },
  {
   "cell_type": "markdown",
   "metadata": {},
   "source": [
    "## 4 : Traitement de features complexes (Optionnel) "
   ]
  },
  {
   "cell_type": "markdown",
   "metadata": {
    "_cell_guid": "bd25ec3f-b601-c1cc-d701-991fac1621f9",
    "_uuid": "17f6d181260d68d89f0a5dfa99b40a82b723567c"
   },
   "source": [
    "4.1 : Le nom permet de retrouver le titre du passager. Trouver les titres lorsqu'ils existent."
   ]
  },
  {
   "cell_type": "code",
   "execution_count": 181,
   "metadata": {
    "_cell_guid": "ad042f43-bfe0-ded0-4171-379d8caaa749",
    "_uuid": "5a56f5b4bad78d7e323167c5f0cc07cb3675187a"
   },
   "outputs": [],
   "source": [
    "train['Title'] = train.Name.map(lambda x: x.split(', ')[1].split('.')[0])"
   ]
  },
  {
   "cell_type": "markdown",
   "metadata": {},
   "source": [
    "4.2 : En utilisant la fonction pandas crosstab, afficher pour train le nombre d'occurences par titres (en ligne) et par sexe (en colonne)"
   ]
  },
  {
   "cell_type": "code",
   "execution_count": 182,
   "metadata": {},
   "outputs": [
    {
     "output_type": "execute_result",
     "data": {
      "text/plain": "col_0         female  male\nrow_0                     \nCapt               0     1\nCol                0     2\nDon                0     1\nDr                 1     6\nJonkheer           0     1\nLady               1     0\nMajor              0     2\nMaster             0    40\nMiss             182     0\nMlle               2     0\nMme                1     0\nMr                 0   517\nMrs              125     0\nMs                 1     0\nRev                0     6\nSir                0     1\nthe Countess       1     0",
      "text/html": "<div>\n<style scoped>\n    .dataframe tbody tr th:only-of-type {\n        vertical-align: middle;\n    }\n\n    .dataframe tbody tr th {\n        vertical-align: top;\n    }\n\n    .dataframe thead th {\n        text-align: right;\n    }\n</style>\n<table border=\"1\" class=\"dataframe\">\n  <thead>\n    <tr style=\"text-align: right;\">\n      <th>col_0</th>\n      <th>female</th>\n      <th>male</th>\n    </tr>\n    <tr>\n      <th>row_0</th>\n      <th></th>\n      <th></th>\n    </tr>\n  </thead>\n  <tbody>\n    <tr>\n      <th>Capt</th>\n      <td>0</td>\n      <td>1</td>\n    </tr>\n    <tr>\n      <th>Col</th>\n      <td>0</td>\n      <td>2</td>\n    </tr>\n    <tr>\n      <th>Don</th>\n      <td>0</td>\n      <td>1</td>\n    </tr>\n    <tr>\n      <th>Dr</th>\n      <td>1</td>\n      <td>6</td>\n    </tr>\n    <tr>\n      <th>Jonkheer</th>\n      <td>0</td>\n      <td>1</td>\n    </tr>\n    <tr>\n      <th>Lady</th>\n      <td>1</td>\n      <td>0</td>\n    </tr>\n    <tr>\n      <th>Major</th>\n      <td>0</td>\n      <td>2</td>\n    </tr>\n    <tr>\n      <th>Master</th>\n      <td>0</td>\n      <td>40</td>\n    </tr>\n    <tr>\n      <th>Miss</th>\n      <td>182</td>\n      <td>0</td>\n    </tr>\n    <tr>\n      <th>Mlle</th>\n      <td>2</td>\n      <td>0</td>\n    </tr>\n    <tr>\n      <th>Mme</th>\n      <td>1</td>\n      <td>0</td>\n    </tr>\n    <tr>\n      <th>Mr</th>\n      <td>0</td>\n      <td>517</td>\n    </tr>\n    <tr>\n      <th>Mrs</th>\n      <td>125</td>\n      <td>0</td>\n    </tr>\n    <tr>\n      <th>Ms</th>\n      <td>1</td>\n      <td>0</td>\n    </tr>\n    <tr>\n      <th>Rev</th>\n      <td>0</td>\n      <td>6</td>\n    </tr>\n    <tr>\n      <th>Sir</th>\n      <td>0</td>\n      <td>1</td>\n    </tr>\n    <tr>\n      <th>the Countess</th>\n      <td>1</td>\n      <td>0</td>\n    </tr>\n  </tbody>\n</table>\n</div>"
     },
     "metadata": {},
     "execution_count": 182
    }
   ],
   "source": [
    "pd.crosstab(train.Title.values, [train.Sex.values])"
   ]
  },
  {
   "cell_type": "markdown",
   "metadata": {
    "_cell_guid": "ca5fff8c-7a0d-6c18-2173-b8df6293c50a",
    "_uuid": "84862f8cbbe2ea72b69a9cba78c6b7e10c80626e"
   },
   "source": [
    "4.3 : \n",
    "Remplacer 'Melle et 'Ms' par 'Miss'\n",
    "Remplacer 'Mme' par 'Mrs'\n",
    "Creer une valeur \"Rare\" pour les autres titres avec moins de 10 occurences. "
   ]
  },
  {
   "cell_type": "code",
   "execution_count": 183,
   "metadata": {
    "_cell_guid": "8357238b-98fe-632a-acd5-33674a6132ce",
    "_uuid": "db0029466612ad0550fc0eebef4a06a5507d6c3d"
   },
   "outputs": [
    {
     "output_type": "execute_result",
     "data": {
      "text/plain": "Mr        517\nMiss      182\nMrs       125\nMaster     40\nRare       27\nName: Title, dtype: int64"
     },
     "metadata": {},
     "execution_count": 183
    }
   ],
   "source": [
    "train.Title.replace(to_replace = [\"Ms\", \"Mlle\"], value =\"Miss\")\n",
    "train.Title.replace(to_replace = \"Mme\", value =\"Mrs\")\n",
    "train.loc[train.groupby('Title').Title.transform('count').lt(10), 'Title'] = 'Rare'\n",
    "train.Title.value_counts()"
   ]
  },
  {
   "cell_type": "markdown",
   "metadata": {
    "_cell_guid": "68fa2057-e27a-e252-0d1b-869c00a303ba",
    "_uuid": "52bcf7b36b8edb12d40f2a1f9e80060b55d91ad3"
   },
   "source": [
    "## 5. Mise en forme des données non numériques"
   ]
  },
  {
   "cell_type": "markdown",
   "metadata": {},
   "source": [
    "5.1 Attribuer une valeur numérique au Genre. Par exemple 0 pour 'female' et 1 pour 'male'"
   ]
  },
  {
   "cell_type": "code",
   "execution_count": 184,
   "metadata": {},
   "outputs": [],
   "source": [
    "train.Sex = train.Sex.map(\n",
    "    {\n",
    "     'female': 0,\n",
    "     'male': 1,\n",
    "    }\n",
    ")\n",
    ""
   ]
  },
  {
   "cell_type": "markdown",
   "metadata": {},
   "source": [
    "5.2 : Attribuer une valeur pour les possibilités de la variable \"Title\" ('Master','Miss','Mr','Mrs','Rare'). "
   ]
  },
  {
   "cell_type": "code",
   "execution_count": 185,
   "metadata": {},
   "outputs": [],
   "source": [
    "train.Title = train.Title.map(\n",
    "    {\n",
    "     'Master': 1,\n",
    "     'Miss': 2,\n",
    "     'Mr': 3,\n",
    "     'Mrs': 4,\n",
    "     'Rare': 5,\n",
    "    }\n",
    ")"
   ]
  },
  {
   "cell_type": "markdown",
   "metadata": {},
   "source": [
    "5.3 Remplacer les titres manquant par 0, et attribuer à la colonne le type entier."
   ]
  },
  {
   "cell_type": "code",
   "execution_count": 186,
   "metadata": {},
   "outputs": [],
   "source": [
    "  # pas besoins car titre déjà remplacé dans le dans 4.3"
   ]
  },
  {
   "cell_type": "markdown",
   "metadata": {},
   "source": [
    "5.4 Attribuer une valeur numérique aux 4 catégories de la variable Fare (question 3.4)"
   ]
  },
  {
   "cell_type": "code",
   "execution_count": 187,
   "metadata": {},
   "outputs": [],
   "source": [
    "unique = train.CategoricalFare.unique()\n",
    "train.CategoricalFare = train.CategoricalFare.map(\n",
    "    {\n",
    "        unique[0]: 0,\n",
    "        unique[1]: 1,\n",
    "        unique[2]: 2,\n",
    "        unique[3]: 3\n",
    "    }\n",
    ")"
   ]
  },
  {
   "cell_type": "markdown",
   "metadata": {},
   "source": [
    "5.5 Attribuer une valeur numérique aux 5 catégories de la variable Age (question 3.7)"
   ]
  },
  {
   "cell_type": "code",
   "execution_count": 188,
   "metadata": {},
   "outputs": [],
   "source": [
    "unique = train.CategoricalAge.unique()\n",
    "train.CategoricalAge = train.CategoricalAge.map(\n",
    "    {\n",
    "        unique[0]: 0,\n",
    "        unique[1]: 1,\n",
    "        unique[2]: 2,\n",
    "        unique[3]: 3,\n",
    "        unique[4]: 4\n",
    "    }\n",
    ")"
   ]
  },
  {
   "cell_type": "markdown",
   "metadata": {},
   "source": [
    "5.6 Attibuer une valeur numérique au Port d'embarquement (Embarked)"
   ]
  },
  {
   "cell_type": "code",
   "execution_count": 189,
   "metadata": {},
   "outputs": [],
   "source": [
    "unique = train.Embarked.unique()\n",
    "train.Embarked = train.Embarked.map(\n",
    "    {\n",
    "        unique[0]: 0,\n",
    "        unique[1]: 1,\n",
    "        unique[2]: 2\n",
    "    }\n",
    ")"
   ]
  },
  {
   "cell_type": "markdown",
   "metadata": {},
   "source": [
    "5.7 Supprimer les features inutiles"
   ]
  },
  {
   "cell_type": "code",
   "execution_count": 194,
   "metadata": {},
   "outputs": [],
   "source": [
    "drop_col = ['Name','Age','SibSp','Parch','Ticket','Cabin','Fare']\n",
    "train = train.drop(drop_col, axis=1)"
   ]
  },
  {
   "cell_type": "markdown",
   "metadata": {},
   "source": [
    "5.8 Afficher les infos pour les deux datasets"
   ]
  },
  {
   "cell_type": "code",
   "execution_count": 191,
   "metadata": {},
   "outputs": [
    {
     "output_type": "stream",
     "name": "stdout",
     "text": "<class 'pandas.core.frame.DataFrame'>\nRangeIndex: 891 entries, 0 to 890\nData columns (total 17 columns):\n #   Column           Non-Null Count  Dtype   \n---  ------           --------------  -----   \n 0   PassengerId      891 non-null    int64   \n 1   Survived         891 non-null    int64   \n 2   Pclass           891 non-null    int64   \n 3   Name             891 non-null    object  \n 4   Sex              891 non-null    int64   \n 5   Age              891 non-null    float64 \n 6   SibSp            891 non-null    int64   \n 7   Parch            891 non-null    int64   \n 8   Ticket           891 non-null    object  \n 9   Fare             891 non-null    float64 \n 10  Cabin            204 non-null    object  \n 11  Embarked         891 non-null    int64   \n 12  FamilySize       891 non-null    int64   \n 13  IsAlone          891 non-null    int64   \n 14  CategoricalFare  891 non-null    category\n 15  CategoricalAge   891 non-null    category\n 16  Title            891 non-null    int64   \ndtypes: category(2), float64(2), int64(10), object(3)\nmemory usage: 106.7+ KB\n<class 'pandas.core.frame.DataFrame'>\nRangeIndex: 418 entries, 0 to 417\nData columns (total 13 columns):\n #   Column       Non-Null Count  Dtype  \n---  ------       --------------  -----  \n 0   PassengerId  418 non-null    int64  \n 1   Pclass       418 non-null    int64  \n 2   Name         418 non-null    object \n 3   Sex          418 non-null    object \n 4   Age          332 non-null    float64\n 5   SibSp        418 non-null    int64  \n 6   Parch        418 non-null    int64  \n 7   Ticket       418 non-null    object \n 8   Fare         417 non-null    float64\n 9   Cabin        91 non-null     object \n 10  Embarked     418 non-null    object \n 11  FamilySize   418 non-null    int64  \n 12  IsAlone      418 non-null    int64  \ndtypes: float64(2), int64(6), object(5)\nmemory usage: 42.6+ KB\n"
    }
   ],
   "source": [
    "train.info()\n",
    "test.info()"
   ]
  },
  {
   "cell_type": "markdown",
   "metadata": {},
   "source": [
    "# Sauver les deux datasets dans des fichier csv. Eviter d'écrire un index (n° de ligne)"
   ]
  },
  {
   "cell_type": "code",
   "execution_count": 195,
   "metadata": {
    "_cell_guid": "2502bb70-ce6f-2497-7331-7d1f80521470",
    "_uuid": "1aa110c1043f1f43c091a771abc64054a211f784"
   },
   "outputs": [],
   "source": [
    "train.to_csv('Data/passagers_after.csv', index=False)\n",
    "test.to_csv('Data/test_after.csv', index=False)"
   ]
  },
  {
   "cell_type": "markdown",
   "metadata": {},
   "source": [
    "##### Question : Sur combien de questions avez-vous utilisé les conseils ?\n",
    "\n",
    "0"
   ]
  }
 ],
 "metadata": {
  "_change_revision": 0,
  "_is_fork": false,
  "kernelspec": {
   "display_name": "Python 3",
   "language": "python",
   "name": "python3"
  },
  "language_info": {
   "codemirror_mode": {
    "name": "ipython",
    "version": 3
   },
   "file_extension": ".py",
   "mimetype": "text/x-python",
   "name": "python",
   "nbconvert_exporter": "python",
   "pygments_lexer": "ipython3",
   "version": "3.7.7-final"
  }
 },
 "nbformat": 4,
 "nbformat_minor": 4
}