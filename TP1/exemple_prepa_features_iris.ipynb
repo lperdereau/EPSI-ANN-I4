{
 "cells": [
  {
   "cell_type": "markdown",
   "execution_count": null,
   "metadata": {},
   "outputs": [],
   "source": [
    "# Exemples de fonctions Pandas utiles pour le TP 1"
   ]
  },
  {
   "cell_type": "markdown",
   "execution_count": null,
   "metadata": {},
   "outputs": [],
   "source": [
    "## Importations des librairies utiles"
   ]
  },
  {
   "cell_type": "code",
   "execution_count": 5,
   "metadata": {},
   "outputs": [
    {
     "output_type": "stream",
     "name": "stdout",
     "text": "numpy 1.18.2, pandas 1.0.3\n"
    }
   ],
   "source": [
    "import numpy as np\n",
    "import pandas as pd\n",
    "\n",
    "print('numpy %s, pandas %s'%(np.__version__,pd.__version__))"
   ]
  },
  {
   "cell_type": "code",
   "execution_count": 7,
   "metadata": {},
   "outputs": [
    {
     "output_type": "execute_result",
     "data": {
      "text/plain": "     id_Iris  Longueur Sépale (cm)  Largeur Sépale (cm)  Longueur Pétale (cm)  \\\n0         23                   NaN                  NaN                   1.4   \n1        104                   4.9                  3.0                   1.4   \n2         18                   4.7                  3.2                   1.3   \n3         49                   4.6                  3.1                   1.5   \n4        123                   5.0                  3.6                   1.4   \n..       ...                   ...                  ...                   ...   \n145      124                   6.7                  3.0                   5.2   \n146       44                   6.3                  2.5                   5.0   \n147       69                   6.5                  3.0                   NaN   \n148       56                   6.2                  3.4                   5.4   \n149        5                   5.9                  3.0                   5.1   \n\n     Largeur Pétale (cm)  Type Iris  \n0                    0.2          0  \n1                    0.2          0  \n2                    0.2          0  \n3                    0.2          0  \n4                    0.2          0  \n..                   ...        ...  \n145                  2.3          2  \n146                  1.9          2  \n147                  2.0          2  \n148                  2.3          2  \n149                  1.8          2  \n\n[150 rows x 6 columns]",
      "text/html": "<div>\n<style scoped>\n    .dataframe tbody tr th:only-of-type {\n        vertical-align: middle;\n    }\n\n    .dataframe tbody tr th {\n        vertical-align: top;\n    }\n\n    .dataframe thead th {\n        text-align: right;\n    }\n</style>\n<table border=\"1\" class=\"dataframe\">\n  <thead>\n    <tr style=\"text-align: right;\">\n      <th></th>\n      <th>id_Iris</th>\n      <th>Longueur Sépale (cm)</th>\n      <th>Largeur Sépale (cm)</th>\n      <th>Longueur Pétale (cm)</th>\n      <th>Largeur Pétale (cm)</th>\n      <th>Type Iris</th>\n    </tr>\n  </thead>\n  <tbody>\n    <tr>\n      <th>0</th>\n      <td>23</td>\n      <td>NaN</td>\n      <td>NaN</td>\n      <td>1.4</td>\n      <td>0.2</td>\n      <td>0</td>\n    </tr>\n    <tr>\n      <th>1</th>\n      <td>104</td>\n      <td>4.9</td>\n      <td>3.0</td>\n      <td>1.4</td>\n      <td>0.2</td>\n      <td>0</td>\n    </tr>\n    <tr>\n      <th>2</th>\n      <td>18</td>\n      <td>4.7</td>\n      <td>3.2</td>\n      <td>1.3</td>\n      <td>0.2</td>\n      <td>0</td>\n    </tr>\n    <tr>\n      <th>3</th>\n      <td>49</td>\n      <td>4.6</td>\n      <td>3.1</td>\n      <td>1.5</td>\n      <td>0.2</td>\n      <td>0</td>\n    </tr>\n    <tr>\n      <th>4</th>\n      <td>123</td>\n      <td>5.0</td>\n      <td>3.6</td>\n      <td>1.4</td>\n      <td>0.2</td>\n      <td>0</td>\n    </tr>\n    <tr>\n      <th>...</th>\n      <td>...</td>\n      <td>...</td>\n      <td>...</td>\n      <td>...</td>\n      <td>...</td>\n      <td>...</td>\n    </tr>\n    <tr>\n      <th>145</th>\n      <td>124</td>\n      <td>6.7</td>\n      <td>3.0</td>\n      <td>5.2</td>\n      <td>2.3</td>\n      <td>2</td>\n    </tr>\n    <tr>\n      <th>146</th>\n      <td>44</td>\n      <td>6.3</td>\n      <td>2.5</td>\n      <td>5.0</td>\n      <td>1.9</td>\n      <td>2</td>\n    </tr>\n    <tr>\n      <th>147</th>\n      <td>69</td>\n      <td>6.5</td>\n      <td>3.0</td>\n      <td>NaN</td>\n      <td>2.0</td>\n      <td>2</td>\n    </tr>\n    <tr>\n      <th>148</th>\n      <td>56</td>\n      <td>6.2</td>\n      <td>3.4</td>\n      <td>5.4</td>\n      <td>2.3</td>\n      <td>2</td>\n    </tr>\n    <tr>\n      <th>149</th>\n      <td>5</td>\n      <td>5.9</td>\n      <td>3.0</td>\n      <td>5.1</td>\n      <td>1.8</td>\n      <td>2</td>\n    </tr>\n  </tbody>\n</table>\n<p>150 rows × 6 columns</p>\n</div>"
     },
     "metadata": {},
     "execution_count": 7
    }
   ],
   "source": [
    "my_dataframe = pd.read_csv('Data/iris.csv', dtype={'id_Iris': np.int})\n",
    "my_dataframe"
   ]
  },
  {
   "cell_type": "code",
   "execution_count": null,
   "metadata": {},
   "outputs": [],
   "source": [
    "my_dataframe.sample(5)"
   ]
  },
  {
   "cell_type": "code",
   "execution_count": null,
   "metadata": {},
   "outputs": [],
   "source": [
    "my_dataframe.info()"
   ]
  },
  {
   "cell_type": "code",
   "execution_count": null,
   "metadata": {},
   "outputs": [],
   "source": [
    "my_dataframe.mean()"
   ]
  },
  {
   "cell_type": "code",
   "execution_count": null,
   "metadata": {},
   "outputs": [],
   "source": [
    "my_dataframe.dtypes"
   ]
  },
  {
   "cell_type": "markdown",
   "execution_count": null,
   "metadata": {},
   "outputs": [],
   "source": [
    "## Transformation d'une colonne en index"
   ]
  },
  {
   "cell_type": "code",
   "execution_count": null,
   "metadata": {},
   "outputs": [],
   "source": [
    "my_dataframe.set_index('id_Iris',inplace=True)\n",
    "my_dataframe"
   ]
  },
  {
   "cell_type": "markdown",
   "execution_count": null,
   "metadata": {},
   "outputs": [],
   "source": [
    "## Tri selon l'index"
   ]
  },
  {
   "cell_type": "code",
   "execution_count": null,
   "metadata": {},
   "outputs": [],
   "source": [
    "my_dataframe.sort_index(inplace=True) #Inplace permet de conserver les modification du DataFrame\n",
    "my_dataframe"
   ]
  },
  {
   "cell_type": "markdown",
   "execution_count": null,
   "metadata": {},
   "outputs": [],
   "source": [
    "## Sélection d'une colonne de Dataframe"
   ]
  },
  {
   "cell_type": "code",
   "execution_count": null,
   "metadata": {},
   "outputs": [],
   "source": [
    "my_dataframe['Largeur Sépale (cm)']"
   ]
  },
  {
   "cell_type": "markdown",
   "execution_count": null,
   "metadata": {},
   "outputs": [],
   "source": [
    "## Sélection d'une sous-partie de Dataframe (Slice) avec loc"
   ]
  },
  {
   "cell_type": "code",
   "execution_count": null,
   "metadata": {},
   "outputs": [],
   "source": [
    "my_dataframe.loc[124:128,'Largeur Sépale (cm)':'Largeur Pétale (cm)']"
   ]
  },
  {
   "cell_type": "code",
   "execution_count": null,
   "metadata": {},
   "outputs": [],
   "source": [
    "mon_petit_dataframe = my_dataframe.loc[145:,['Longueur Sépale (cm)','Longueur Pétale (cm)','Type Iris']]\n",
    "mon_petit_dataframe"
   ]
  },
  {
   "cell_type": "markdown",
   "execution_count": null,
   "metadata": {},
   "outputs": [],
   "source": [
    "## Filtre"
   ]
  },
  {
   "cell_type": "code",
   "execution_count": null,
   "metadata": {},
   "outputs": [],
   "source": [
    "mon_petit_dataframe[mon_petit_dataframe['Longueur Pétale (cm)']>4]"
   ]
  },
  {
   "cell_type": "markdown",
   "execution_count": null,
   "metadata": {},
   "outputs": [],
   "source": [
    "## Modification en masse (Vectorisation)"
   ]
  },
  {
   "cell_type": "code",
   "execution_count": null,
   "metadata": {},
   "outputs": [],
   "source": [
    "mon_petit_dataframe * 2"
   ]
  },
  {
   "cell_type": "code",
   "execution_count": null,
   "metadata": {},
   "outputs": [],
   "source": [
    "mon_petit_dataframe['Longueur Pétale (cm)'] = mon_petit_dataframe['Longueur Pétale (cm)'] -1\n",
    "mon_petit_dataframe"
   ]
  },
  {
   "cell_type": "markdown",
   "execution_count": null,
   "metadata": {},
   "outputs": [],
   "source": [
    "## Conversion en Numpy (nécessaire car attendu par scikit)"
   ]
  },
  {
   "cell_type": "code",
   "execution_count": null,
   "metadata": {},
   "outputs": [],
   "source": [
    "my_array=mon_petit_dataframe.values\n",
    "print(type(my_array))\n",
    "my_array"
   ]
  },
  {
   "cell_type": "markdown",
   "execution_count": null,
   "metadata": {},
   "outputs": [],
   "source": [
    "## Fonction GroupBy"
   ]
  },
  {
   "cell_type": "code",
   "execution_count": null,
   "metadata": {},
   "outputs": [],
   "source": [
    "mon_petit_dataframe[['Longueur Sépale (cm)', 'Longueur Pétale (cm)','Type Iris']].groupby(['Type Iris'])"
   ]
  },
  {
   "cell_type": "code",
   "execution_count": null,
   "metadata": {},
   "outputs": [],
   "source": [
    "mon_petit_dataframe[['Longueur Sépale (cm)', 'Longueur Pétale (cm)','Type Iris']].groupby(['Type Iris']).mean()"
   ]
  },
  {
   "cell_type": "code",
   "execution_count": null,
   "metadata": {},
   "outputs": [],
   "source": [
    "mon_petit_dataframe[['Longueur Sépale (cm)', 'Longueur Pétale (cm)','Type Iris']].groupby(['Type Iris']).max()"
   ]
  },
  {
   "cell_type": "markdown",
   "execution_count": null,
   "metadata": {},
   "outputs": [],
   "source": [
    "## Fonction qcut and cut"
   ]
  },
  {
   "cell_type": "code",
   "execution_count": null,
   "metadata": {},
   "outputs": [],
   "source": [
    "my_dataframe['CategoricalLgPetale'] = pd.qcut(my_dataframe['Longueur Pétale (cm)'],5)\n",
    "my_dataframe.head(3)"
   ]
  },
  {
   "cell_type": "code",
   "execution_count": null,
   "metadata": {},
   "outputs": [],
   "source": [
    "pd.qcut(my_dataframe['Longueur Pétale (cm)'],5).value_counts()"
   ]
  },
  {
   "cell_type": "code",
   "execution_count": null,
   "metadata": {},
   "outputs": [],
   "source": [
    "my_dataframe['CategoricalLgPetale'] = pd.cut(my_dataframe['Longueur Pétale (cm)'],5)\n",
    "my_dataframe.head(3)"
   ]
  },
  {
   "cell_type": "code",
   "execution_count": null,
   "metadata": {},
   "outputs": [],
   "source": [
    "pd.cut(my_dataframe['Longueur Pétale (cm)'],5).value_counts()"
   ]
  },
  {
   "cell_type": "markdown",
   "execution_count": null,
   "metadata": {},
   "outputs": [],
   "source": [
    "## Fonction map"
   ]
  },
  {
   "cell_type": "code",
   "execution_count": 8,
   "metadata": {},
   "outputs": [
    {
     "output_type": "execute_result",
     "data": {
      "text/plain": "     id_Iris  Longueur Sépale (cm)  Largeur Sépale (cm)  Longueur Pétale (cm)  \\\n0         23                   NaN                  NaN                   1.4   \n1        104                   4.9                  3.0                   1.4   \n2         18                   4.7                  3.2                   1.3   \n3         49                   4.6                  3.1                   1.5   \n4        123                   5.0                  3.6                   1.4   \n..       ...                   ...                  ...                   ...   \n145      124                   6.7                  3.0                   5.2   \n146       44                   6.3                  2.5                   5.0   \n147       69                   6.5                  3.0                   NaN   \n148       56                   6.2                  3.4                   5.4   \n149        5                   5.9                  3.0                   5.1   \n\n     Largeur Pétale (cm)  Type Iris  label_iris  \n0                    0.2          0  Versicolor  \n1                    0.2          0  Versicolor  \n2                    0.2          0  Versicolor  \n3                    0.2          0  Versicolor  \n4                    0.2          0  Versicolor  \n..                   ...        ...         ...  \n145                  2.3          2   Virginica  \n146                  1.9          2   Virginica  \n147                  2.0          2   Virginica  \n148                  2.3          2   Virginica  \n149                  1.8          2   Virginica  \n\n[150 rows x 7 columns]",
      "text/html": "<div>\n<style scoped>\n    .dataframe tbody tr th:only-of-type {\n        vertical-align: middle;\n    }\n\n    .dataframe tbody tr th {\n        vertical-align: top;\n    }\n\n    .dataframe thead th {\n        text-align: right;\n    }\n</style>\n<table border=\"1\" class=\"dataframe\">\n  <thead>\n    <tr style=\"text-align: right;\">\n      <th></th>\n      <th>id_Iris</th>\n      <th>Longueur Sépale (cm)</th>\n      <th>Largeur Sépale (cm)</th>\n      <th>Longueur Pétale (cm)</th>\n      <th>Largeur Pétale (cm)</th>\n      <th>Type Iris</th>\n      <th>label_iris</th>\n    </tr>\n  </thead>\n  <tbody>\n    <tr>\n      <th>0</th>\n      <td>23</td>\n      <td>NaN</td>\n      <td>NaN</td>\n      <td>1.4</td>\n      <td>0.2</td>\n      <td>0</td>\n      <td>Versicolor</td>\n    </tr>\n    <tr>\n      <th>1</th>\n      <td>104</td>\n      <td>4.9</td>\n      <td>3.0</td>\n      <td>1.4</td>\n      <td>0.2</td>\n      <td>0</td>\n      <td>Versicolor</td>\n    </tr>\n    <tr>\n      <th>2</th>\n      <td>18</td>\n      <td>4.7</td>\n      <td>3.2</td>\n      <td>1.3</td>\n      <td>0.2</td>\n      <td>0</td>\n      <td>Versicolor</td>\n    </tr>\n    <tr>\n      <th>3</th>\n      <td>49</td>\n      <td>4.6</td>\n      <td>3.1</td>\n      <td>1.5</td>\n      <td>0.2</td>\n      <td>0</td>\n      <td>Versicolor</td>\n    </tr>\n    <tr>\n      <th>4</th>\n      <td>123</td>\n      <td>5.0</td>\n      <td>3.6</td>\n      <td>1.4</td>\n      <td>0.2</td>\n      <td>0</td>\n      <td>Versicolor</td>\n    </tr>\n    <tr>\n      <th>...</th>\n      <td>...</td>\n      <td>...</td>\n      <td>...</td>\n      <td>...</td>\n      <td>...</td>\n      <td>...</td>\n      <td>...</td>\n    </tr>\n    <tr>\n      <th>145</th>\n      <td>124</td>\n      <td>6.7</td>\n      <td>3.0</td>\n      <td>5.2</td>\n      <td>2.3</td>\n      <td>2</td>\n      <td>Virginica</td>\n    </tr>\n    <tr>\n      <th>146</th>\n      <td>44</td>\n      <td>6.3</td>\n      <td>2.5</td>\n      <td>5.0</td>\n      <td>1.9</td>\n      <td>2</td>\n      <td>Virginica</td>\n    </tr>\n    <tr>\n      <th>147</th>\n      <td>69</td>\n      <td>6.5</td>\n      <td>3.0</td>\n      <td>NaN</td>\n      <td>2.0</td>\n      <td>2</td>\n      <td>Virginica</td>\n    </tr>\n    <tr>\n      <th>148</th>\n      <td>56</td>\n      <td>6.2</td>\n      <td>3.4</td>\n      <td>5.4</td>\n      <td>2.3</td>\n      <td>2</td>\n      <td>Virginica</td>\n    </tr>\n    <tr>\n      <th>149</th>\n      <td>5</td>\n      <td>5.9</td>\n      <td>3.0</td>\n      <td>5.1</td>\n      <td>1.8</td>\n      <td>2</td>\n      <td>Virginica</td>\n    </tr>\n  </tbody>\n</table>\n<p>150 rows × 7 columns</p>\n</div>"
     },
     "metadata": {},
     "execution_count": 8
    }
   ],
   "source": [
    "my_dataframe['label_iris'] =  my_dataframe[\"Type Iris\"].map(\n",
    "    {0:'Versicolor',\n",
    "     1:'Setosa',\n",
    "     2:'Virginica',\n",
    "    }\n",
    ")\n",
    "my_dataframe"
   ]
  },
  {
   "cell_type": "markdown",
   "execution_count": null,
   "metadata": {},
   "outputs": [],
   "source": [
    "## Filtre de valeurs "
   ]
  },
  {
   "cell_type": "code",
   "execution_count": null,
   "metadata": {},
   "outputs": [],
   "source": [
    "my_dataframe.loc[my_dataframe[\"Type Iris\"]==2][0:20]"
   ]
  },
  {
   "cell_type": "markdown",
   "execution_count": null,
   "metadata": {},
   "outputs": [],
   "source": [
    "## Filtre et Remplacement de valeurs"
   ]
  },
  {
   "cell_type": "code",
   "execution_count": null,
   "metadata": {},
   "outputs": [],
   "source": [
    "my_dataframe.loc[\n",
    "    my_dataframe[\"Largeur Pétale (cm)\"]>2, # Lignes\n",
    "                \"label_iris\"\n",
    "    ]= 'Grand Virginica'\n",
    "my_dataframe[0:20]        "
   ]
  },
  {
   "cell_type": "markdown",
   "execution_count": null,
   "metadata": {},
   "outputs": [],
   "source": [
    "## Remplir les valeurs manquantes"
   ]
  },
  {
   "cell_type": "code",
   "execution_count": null,
   "metadata": {},
   "outputs": [],
   "source": [
    "mon_petit_dataframe.fillna(0) # Ajouter le paramètre inplace=True pour que le DataFrame soit modifié"
   ]
  },
  {
   "cell_type": "code",
   "execution_count": null,
   "metadata": {},
   "outputs": [],
   "source": [
    "mon_petit_dataframe"
   ]
  },
  {
   "cell_type": "markdown",
   "execution_count": null,
   "metadata": {},
   "outputs": [],
   "source": [
    "## columns et drop"
   ]
  },
  {
   "cell_type": "code",
   "execution_count": null,
   "metadata": {},
   "outputs": [],
   "source": [
    "print(list(my_dataframe.columns.values))\n",
    "my_dataframe = my_dataframe.drop('CategoricalLgPetale', axis=1)\n",
    "print(list(my_dataframe.columns.values))"
   ]
  },
  {
   "cell_type": "markdown",
   "execution_count": null,
   "metadata": {},
   "outputs": [],
   "source": [
    "## Mise en Forme"
   ]
  },
  {
   "cell_type": "code",
   "execution_count": null,
   "metadata": {},
   "outputs": [],
   "source": [
    "from IPython.display import Markdown, display, HTML\n",
    "\n",
    "display(HTML('<span style=\"color:blue;font-weight:bold\">Ceci est le titre</span>'))\n",
    "display(HTML(mon_petit_dataframe.to_html()))\n",
    "display(HTML('<span style=\"color:blue;font-weight:bold\">----- Fin ----- </span>'))"
   ]
  }
 ],
 "metadata": {
  "kernelspec": {
   "display_name": "Python 3",
   "language": "python",
   "name": "python3"
  },
  "language_info": {
   "codemirror_mode": {
    "name": "ipython",
    "version": 3
   },
   "file_extension": ".py",
   "mimetype": "text/x-python",
   "name": "python",
   "nbconvert_exporter": "python",
   "pygments_lexer": "ipython3",
   "version": "3.7.7-final"
  }
 },
 "nbformat": 4,
 "nbformat_minor": 4
}