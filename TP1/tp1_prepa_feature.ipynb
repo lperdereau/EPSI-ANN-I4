{
 "cells": [
  {
   "cell_type": "markdown",
   "metadata": {},
   "source": [
    "## Import des librairies ##"
   ]
  },
  {
   "cell_type": "code",
   "execution_count": 317,
   "metadata": {},
   "outputs": [],
   "source": [
    "#Imports librairies de base\n",
    "import numpy as np\n",
    "import pandas as pd\n",
    "\n",
    "#Bibliothèques pour Cross validation\n",
    "\n",
    "#Affichage de Graphes\n",
    "from IPython.display import Markdown, display, HTML"
   ]
  },
  {
   "cell_type": "markdown",
   "metadata": {
    "_cell_guid": "25b1e1db-8bc5-7029-f719-91da523bd121",
    "_uuid": "5c867fcbb300bcf3c9b8986bba9949da2a2df931"
   },
   "source": [
    "## 1. Lecture des données ##"
   ]
  },
  {
   "cell_type": "markdown",
   "metadata": {},
   "source": [
    "1.1 Charger les données d'apprentissage (Data/passagers.csv) dans un DataFrame nommé train. Afficher 10 exemples."
   ]
  },
  {
   "cell_type": "code",
   "execution_count": 318,
   "metadata": {
    "_cell_guid": "2ce68358-02ec-556d-ba88-e773a50bc18b",
    "_uuid": "5ec0878acc5c7ab3903410e671c2a2c6cfeafeea"
   },
   "outputs": [
    {
     "output_type": "execute_result",
     "data": {
      "text/plain": "     PassengerId  Survived  Pclass                               Name     Sex  \\\n11            12         1       1           Bonnell, Miss. Elizabeth  female   \n800          801         0       2               Ponesell, Mr. Martin    male   \n86            87         0       3             Ford, Mr. William Neal    male   \n344          345         0       2            Fox, Mr. Stanley Hubert    male   \n855          856         1       3         Aks, Mrs. Sam (Leah Rosen)  female   \n290          291         1       1       Barber, Miss. Ellen \"Nellie\"  female   \n33            34         0       2              Wheadon, Mr. Edward H    male   \n536          537         0       1  Butt, Major. Archibald Willingham    male   \n122          123         0       2               Nasser, Mr. Nicholas    male   \n811          812         0       3                  Lester, Mr. James    male   \n\n      Age  SibSp  Parch      Ticket     Fare Cabin Embarked  \n11   58.0      0      0      113783  26.5500  C103        S  \n800  34.0      0      0      250647  13.0000   NaN        S  \n86   16.0      1      3  W./C. 6608  34.3750   NaN        S  \n344  36.0      0      0      229236  13.0000   NaN        S  \n855  18.0      0      1      392091   9.3500   NaN        S  \n290  26.0      0      0       19877  78.8500   NaN        S  \n33   66.0      0      0  C.A. 24579  10.5000   NaN        S  \n536  45.0      0      0      113050  26.5500   B38        S  \n122  32.5      1      0      237736  30.0708   NaN        C  \n811  39.0      0      0   A/4 48871  24.1500   NaN        S  ",
      "text/html": "<div>\n<style scoped>\n    .dataframe tbody tr th:only-of-type {\n        vertical-align: middle;\n    }\n\n    .dataframe tbody tr th {\n        vertical-align: top;\n    }\n\n    .dataframe thead th {\n        text-align: right;\n    }\n</style>\n<table border=\"1\" class=\"dataframe\">\n  <thead>\n    <tr style=\"text-align: right;\">\n      <th></th>\n      <th>PassengerId</th>\n      <th>Survived</th>\n      <th>Pclass</th>\n      <th>Name</th>\n      <th>Sex</th>\n      <th>Age</th>\n      <th>SibSp</th>\n      <th>Parch</th>\n      <th>Ticket</th>\n      <th>Fare</th>\n      <th>Cabin</th>\n      <th>Embarked</th>\n    </tr>\n  </thead>\n  <tbody>\n    <tr>\n      <th>11</th>\n      <td>12</td>\n      <td>1</td>\n      <td>1</td>\n      <td>Bonnell, Miss. Elizabeth</td>\n      <td>female</td>\n      <td>58.0</td>\n      <td>0</td>\n      <td>0</td>\n      <td>113783</td>\n      <td>26.5500</td>\n      <td>C103</td>\n      <td>S</td>\n    </tr>\n    <tr>\n      <th>800</th>\n      <td>801</td>\n      <td>0</td>\n      <td>2</td>\n      <td>Ponesell, Mr. Martin</td>\n      <td>male</td>\n      <td>34.0</td>\n      <td>0</td>\n      <td>0</td>\n      <td>250647</td>\n      <td>13.0000</td>\n      <td>NaN</td>\n      <td>S</td>\n    </tr>\n    <tr>\n      <th>86</th>\n      <td>87</td>\n      <td>0</td>\n      <td>3</td>\n      <td>Ford, Mr. William Neal</td>\n      <td>male</td>\n      <td>16.0</td>\n      <td>1</td>\n      <td>3</td>\n      <td>W./C. 6608</td>\n      <td>34.3750</td>\n      <td>NaN</td>\n      <td>S</td>\n    </tr>\n    <tr>\n      <th>344</th>\n      <td>345</td>\n      <td>0</td>\n      <td>2</td>\n      <td>Fox, Mr. Stanley Hubert</td>\n      <td>male</td>\n      <td>36.0</td>\n      <td>0</td>\n      <td>0</td>\n      <td>229236</td>\n      <td>13.0000</td>\n      <td>NaN</td>\n      <td>S</td>\n    </tr>\n    <tr>\n      <th>855</th>\n      <td>856</td>\n      <td>1</td>\n      <td>3</td>\n      <td>Aks, Mrs. Sam (Leah Rosen)</td>\n      <td>female</td>\n      <td>18.0</td>\n      <td>0</td>\n      <td>1</td>\n      <td>392091</td>\n      <td>9.3500</td>\n      <td>NaN</td>\n      <td>S</td>\n    </tr>\n    <tr>\n      <th>290</th>\n      <td>291</td>\n      <td>1</td>\n      <td>1</td>\n      <td>Barber, Miss. Ellen \"Nellie\"</td>\n      <td>female</td>\n      <td>26.0</td>\n      <td>0</td>\n      <td>0</td>\n      <td>19877</td>\n      <td>78.8500</td>\n      <td>NaN</td>\n      <td>S</td>\n    </tr>\n    <tr>\n      <th>33</th>\n      <td>34</td>\n      <td>0</td>\n      <td>2</td>\n      <td>Wheadon, Mr. Edward H</td>\n      <td>male</td>\n      <td>66.0</td>\n      <td>0</td>\n      <td>0</td>\n      <td>C.A. 24579</td>\n      <td>10.5000</td>\n      <td>NaN</td>\n      <td>S</td>\n    </tr>\n    <tr>\n      <th>536</th>\n      <td>537</td>\n      <td>0</td>\n      <td>1</td>\n      <td>Butt, Major. Archibald Willingham</td>\n      <td>male</td>\n      <td>45.0</td>\n      <td>0</td>\n      <td>0</td>\n      <td>113050</td>\n      <td>26.5500</td>\n      <td>B38</td>\n      <td>S</td>\n    </tr>\n    <tr>\n      <th>122</th>\n      <td>123</td>\n      <td>0</td>\n      <td>2</td>\n      <td>Nasser, Mr. Nicholas</td>\n      <td>male</td>\n      <td>32.5</td>\n      <td>1</td>\n      <td>0</td>\n      <td>237736</td>\n      <td>30.0708</td>\n      <td>NaN</td>\n      <td>C</td>\n    </tr>\n    <tr>\n      <th>811</th>\n      <td>812</td>\n      <td>0</td>\n      <td>3</td>\n      <td>Lester, Mr. James</td>\n      <td>male</td>\n      <td>39.0</td>\n      <td>0</td>\n      <td>0</td>\n      <td>A/4 48871</td>\n      <td>24.1500</td>\n      <td>NaN</td>\n      <td>S</td>\n    </tr>\n  </tbody>\n</table>\n</div>"
     },
     "metadata": {},
     "execution_count": 318
    }
   ],
   "source": [
    "train = pd.read_csv('Data/passagers.csv', dtype={'PassengerId': np.int})\n",
    "train.sample(10)"
   ]
  },
  {
   "cell_type": "markdown",
   "metadata": {},
   "source": [
    "1.2 Charger les données d'apprentissage (Data/test.csv) dans un Dataframe nommé test. Afficher 10 exemples. "
   ]
  },
  {
   "cell_type": "code",
   "execution_count": 319,
   "metadata": {
    "_cell_guid": "2ce68358-02ec-556d-ba88-e773a50bc18b",
    "_uuid": "5ec0878acc5c7ab3903410e671c2a2c6cfeafeea"
   },
   "outputs": [
    {
     "output_type": "execute_result",
     "data": {
      "text/plain": "     PassengerId  Pclass                                              Name  \\\n49           941       3    Coutts, Mrs. William (Winnie Minnie\" Treanor)\"   \n194         1086       2                     Drew, Master. Marshall Brines   \n162         1054       2                              Wright, Miss. Marion   \n59           951       1                       Chaudanson, Miss. Victorine   \n241         1133       2                     Christy, Mrs. (Alice Frances)   \n408         1300       3                   Riordan, Miss. Johanna Hannah\"\"   \n379         1271       3                       Asplund, Master. Carl Edgar   \n225         1117       3  Moubarek, Mrs. George (Omine Amenia\" Alexander)\"   \n291         1183       3            Daly, Miss. Margaret Marcella Maggie\"\"   \n386         1278       3                    Aronsson, Mr. Ernst Axel Algot   \n\n        Sex   Age  SibSp  Parch      Ticket      Fare Cabin Embarked  \n49   female  36.0      0      2  C.A. 37671   15.9000   NaN        S  \n194    male   8.0      0      2       28220   32.5000   NaN        S  \n162  female  26.0      0      0      220844   13.5000   NaN        S  \n59   female  36.0      0      0    PC 17608  262.3750   B61        C  \n241  female  45.0      0      2      237789   30.0000   NaN        S  \n408  female   NaN      0      0      334915    7.7208   NaN        Q  \n379    male   5.0      4      2      347077   31.3875   NaN        S  \n225  female   NaN      0      2        2661   15.2458   NaN        C  \n291  female  30.0      0      0      382650    6.9500   NaN        Q  \n386    male  24.0      0      0      349911    7.7750   NaN        S  ",
      "text/html": "<div>\n<style scoped>\n    .dataframe tbody tr th:only-of-type {\n        vertical-align: middle;\n    }\n\n    .dataframe tbody tr th {\n        vertical-align: top;\n    }\n\n    .dataframe thead th {\n        text-align: right;\n    }\n</style>\n<table border=\"1\" class=\"dataframe\">\n  <thead>\n    <tr style=\"text-align: right;\">\n      <th></th>\n      <th>PassengerId</th>\n      <th>Pclass</th>\n      <th>Name</th>\n      <th>Sex</th>\n      <th>Age</th>\n      <th>SibSp</th>\n      <th>Parch</th>\n      <th>Ticket</th>\n      <th>Fare</th>\n      <th>Cabin</th>\n      <th>Embarked</th>\n    </tr>\n  </thead>\n  <tbody>\n    <tr>\n      <th>49</th>\n      <td>941</td>\n      <td>3</td>\n      <td>Coutts, Mrs. William (Winnie Minnie\" Treanor)\"</td>\n      <td>female</td>\n      <td>36.0</td>\n      <td>0</td>\n      <td>2</td>\n      <td>C.A. 37671</td>\n      <td>15.9000</td>\n      <td>NaN</td>\n      <td>S</td>\n    </tr>\n    <tr>\n      <th>194</th>\n      <td>1086</td>\n      <td>2</td>\n      <td>Drew, Master. Marshall Brines</td>\n      <td>male</td>\n      <td>8.0</td>\n      <td>0</td>\n      <td>2</td>\n      <td>28220</td>\n      <td>32.5000</td>\n      <td>NaN</td>\n      <td>S</td>\n    </tr>\n    <tr>\n      <th>162</th>\n      <td>1054</td>\n      <td>2</td>\n      <td>Wright, Miss. Marion</td>\n      <td>female</td>\n      <td>26.0</td>\n      <td>0</td>\n      <td>0</td>\n      <td>220844</td>\n      <td>13.5000</td>\n      <td>NaN</td>\n      <td>S</td>\n    </tr>\n    <tr>\n      <th>59</th>\n      <td>951</td>\n      <td>1</td>\n      <td>Chaudanson, Miss. Victorine</td>\n      <td>female</td>\n      <td>36.0</td>\n      <td>0</td>\n      <td>0</td>\n      <td>PC 17608</td>\n      <td>262.3750</td>\n      <td>B61</td>\n      <td>C</td>\n    </tr>\n    <tr>\n      <th>241</th>\n      <td>1133</td>\n      <td>2</td>\n      <td>Christy, Mrs. (Alice Frances)</td>\n      <td>female</td>\n      <td>45.0</td>\n      <td>0</td>\n      <td>2</td>\n      <td>237789</td>\n      <td>30.0000</td>\n      <td>NaN</td>\n      <td>S</td>\n    </tr>\n    <tr>\n      <th>408</th>\n      <td>1300</td>\n      <td>3</td>\n      <td>Riordan, Miss. Johanna Hannah\"\"</td>\n      <td>female</td>\n      <td>NaN</td>\n      <td>0</td>\n      <td>0</td>\n      <td>334915</td>\n      <td>7.7208</td>\n      <td>NaN</td>\n      <td>Q</td>\n    </tr>\n    <tr>\n      <th>379</th>\n      <td>1271</td>\n      <td>3</td>\n      <td>Asplund, Master. Carl Edgar</td>\n      <td>male</td>\n      <td>5.0</td>\n      <td>4</td>\n      <td>2</td>\n      <td>347077</td>\n      <td>31.3875</td>\n      <td>NaN</td>\n      <td>S</td>\n    </tr>\n    <tr>\n      <th>225</th>\n      <td>1117</td>\n      <td>3</td>\n      <td>Moubarek, Mrs. George (Omine Amenia\" Alexander)\"</td>\n      <td>female</td>\n      <td>NaN</td>\n      <td>0</td>\n      <td>2</td>\n      <td>2661</td>\n      <td>15.2458</td>\n      <td>NaN</td>\n      <td>C</td>\n    </tr>\n    <tr>\n      <th>291</th>\n      <td>1183</td>\n      <td>3</td>\n      <td>Daly, Miss. Margaret Marcella Maggie\"\"</td>\n      <td>female</td>\n      <td>30.0</td>\n      <td>0</td>\n      <td>0</td>\n      <td>382650</td>\n      <td>6.9500</td>\n      <td>NaN</td>\n      <td>Q</td>\n    </tr>\n    <tr>\n      <th>386</th>\n      <td>1278</td>\n      <td>3</td>\n      <td>Aronsson, Mr. Ernst Axel Algot</td>\n      <td>male</td>\n      <td>24.0</td>\n      <td>0</td>\n      <td>0</td>\n      <td>349911</td>\n      <td>7.7750</td>\n      <td>NaN</td>\n      <td>S</td>\n    </tr>\n  </tbody>\n</table>\n</div>"
     },
     "metadata": {},
     "execution_count": 319
    }
   ],
   "source": [
    "test = pd.read_csv('Data/test.csv', dtype={'PassengerId': np.int})\n",
    "test.sample(10)"
   ]
  },
  {
   "cell_type": "markdown",
   "metadata": {},
   "source": [
    "1.3 Afficher les informations des deux DataFrames train et Test."
   ]
  },
  {
   "cell_type": "code",
   "execution_count": 320,
   "metadata": {
    "_cell_guid": "2ce68358-02ec-556d-ba88-e773a50bc18b",
    "_uuid": "5ec0878acc5c7ab3903410e671c2a2c6cfeafeea"
   },
   "outputs": [
    {
     "output_type": "stream",
     "name": "stdout",
     "text": "<class 'pandas.core.frame.DataFrame'>\nRangeIndex: 891 entries, 0 to 890\nData columns (total 12 columns):\n #   Column       Non-Null Count  Dtype  \n---  ------       --------------  -----  \n 0   PassengerId  891 non-null    int64  \n 1   Survived     891 non-null    int64  \n 2   Pclass       891 non-null    int64  \n 3   Name         891 non-null    object \n 4   Sex          891 non-null    object \n 5   Age          714 non-null    float64\n 6   SibSp        891 non-null    int64  \n 7   Parch        891 non-null    int64  \n 8   Ticket       891 non-null    object \n 9   Fare         891 non-null    float64\n 10  Cabin        204 non-null    object \n 11  Embarked     889 non-null    object \ndtypes: float64(2), int64(5), object(5)\nmemory usage: 83.7+ KB\n<class 'pandas.core.frame.DataFrame'>\nRangeIndex: 418 entries, 0 to 417\nData columns (total 11 columns):\n #   Column       Non-Null Count  Dtype  \n---  ------       --------------  -----  \n 0   PassengerId  418 non-null    int64  \n 1   Pclass       418 non-null    int64  \n 2   Name         418 non-null    object \n 3   Sex          418 non-null    object \n 4   Age          332 non-null    float64\n 5   SibSp        418 non-null    int64  \n 6   Parch        418 non-null    int64  \n 7   Ticket       418 non-null    object \n 8   Fare         417 non-null    float64\n 9   Cabin        91 non-null     object \n 10  Embarked     418 non-null    object \ndtypes: float64(2), int64(4), object(5)\nmemory usage: 36.0+ KB\n"
    }
   ],
   "source": [
    "train.info()\n",
    "test.info()"
   ]
  },
  {
   "cell_type": "markdown",
   "metadata": {},
   "source": [
    "1.4 Calculer le taux global de survie"
   ]
  },
  {
   "cell_type": "code",
   "execution_count": 321,
   "metadata": {},
   "outputs": [
    {
     "output_type": "execute_result",
     "data": {
      "text/plain": "0.3838383838383838"
     },
     "metadata": {},
     "execution_count": 321
    }
   ],
   "source": [
    "survived = train['Survived'].mean()\n",
    "survived"
   ]
  },
  {
   "cell_type": "markdown",
   "metadata": {},
   "source": [
    "\n"
   ]
  },
  {
   "cell_type": "markdown",
   "metadata": {},
   "source": [
    "#### Question 1 : Quel Travail voyez-vous pour que les données soient prêtes à faire tourner dans un modèle ?\n",
    "\n",
    "\n",
    "\n",
    "#### Question 2 : Quelle différence y-a-t'il entre les données train et les données test ? \n",
    "\n",
    "Il y a une colonne en plus dans train, la colonne survived.\n",
    "\n",
    "\n",
    "#### Question 3 : Quel est le rôle de ces deux sets de données ?\n",
    "\n",
    "\n"
   ]
  },
  {
   "cell_type": "markdown",
   "metadata": {
    "_cell_guid": "f9595646-65c9-6fc4-395f-0befc4d122ce",
    "_uuid": "66273d64a2548d7a88464ab2a73dbdedfbdc488b"
   },
   "source": [
    "## 2. Analyse des features"
   ]
  },
  {
   "cell_type": "markdown",
   "metadata": {
    "_cell_guid": "9b4c278b-aaca-e92c-ba77-b9b48379d1f1",
    "_uuid": "c2b62e14d493c270ec8df9f3af1938c479361ef3"
   },
   "source": [
    "2.1 Analyser l'effet de la variable Classe sur le taux de survie, en affichant le % de survie par classe"
   ]
  },
  {
   "cell_type": "code",
   "execution_count": 322,
   "metadata": {},
   "outputs": [
    {
     "output_type": "execute_result",
     "data": {
      "text/plain": "         Survived\nPclass           \n1       62.962963\n2       47.282609\n3       24.236253",
      "text/html": "<div>\n<style scoped>\n    .dataframe tbody tr th:only-of-type {\n        vertical-align: middle;\n    }\n\n    .dataframe tbody tr th {\n        vertical-align: top;\n    }\n\n    .dataframe thead th {\n        text-align: right;\n    }\n</style>\n<table border=\"1\" class=\"dataframe\">\n  <thead>\n    <tr style=\"text-align: right;\">\n      <th></th>\n      <th>Survived</th>\n    </tr>\n    <tr>\n      <th>Pclass</th>\n      <th></th>\n    </tr>\n  </thead>\n  <tbody>\n    <tr>\n      <th>1</th>\n      <td>62.962963</td>\n    </tr>\n    <tr>\n      <th>2</th>\n      <td>47.282609</td>\n    </tr>\n    <tr>\n      <th>3</th>\n      <td>24.236253</td>\n    </tr>\n  </tbody>\n</table>\n</div>"
     },
     "metadata": {},
     "execution_count": 322
    }
   ],
   "source": [
    "survived_by_group = train[['Survived','Pclass']].groupby(['Pclass']).mean() *100\n",
    "survived_by_group\n",
    ""
   ]
  },
  {
   "cell_type": "markdown",
   "metadata": {
    "_cell_guid": "4680d950-cf7d-a6ae-e813-535e2247d88e",
    "_uuid": "f02533e7b85bba0cca7fcf2cc598c8da92d7646d"
   },
   "source": [
    "2.2 Analyser l'effet de la variable Genre (Sex) sur le taux de survie, en affichant le % de survie par genre"
   ]
  },
  {
   "cell_type": "code",
   "execution_count": 323,
   "metadata": {
    "_cell_guid": "4680d950-cf7d-a6ae-e813-535e2247d88e",
    "_uuid": "f02533e7b85bba0cca7fcf2cc598c8da92d7646d"
   },
   "outputs": [
    {
     "output_type": "execute_result",
     "data": {
      "text/plain": "                Survived\nSex    Pclass           \nfemale 1       96.808511\n       2       92.105263\n       3       50.000000\nmale   1       36.885246\n       2       15.740741\n       3       13.544669",
      "text/html": "<div>\n<style scoped>\n    .dataframe tbody tr th:only-of-type {\n        vertical-align: middle;\n    }\n\n    .dataframe tbody tr th {\n        vertical-align: top;\n    }\n\n    .dataframe thead th {\n        text-align: right;\n    }\n</style>\n<table border=\"1\" class=\"dataframe\">\n  <thead>\n    <tr style=\"text-align: right;\">\n      <th></th>\n      <th></th>\n      <th>Survived</th>\n    </tr>\n    <tr>\n      <th>Sex</th>\n      <th>Pclass</th>\n      <th></th>\n    </tr>\n  </thead>\n  <tbody>\n    <tr>\n      <th rowspan=\"3\" valign=\"top\">female</th>\n      <th>1</th>\n      <td>96.808511</td>\n    </tr>\n    <tr>\n      <th>2</th>\n      <td>92.105263</td>\n    </tr>\n    <tr>\n      <th>3</th>\n      <td>50.000000</td>\n    </tr>\n    <tr>\n      <th rowspan=\"3\" valign=\"top\">male</th>\n      <th>1</th>\n      <td>36.885246</td>\n    </tr>\n    <tr>\n      <th>2</th>\n      <td>15.740741</td>\n    </tr>\n    <tr>\n      <th>3</th>\n      <td>13.544669</td>\n    </tr>\n  </tbody>\n</table>\n</div>"
     },
     "metadata": {},
     "execution_count": 323
    }
   ],
   "source": [
    "survived_by_sex = train[['Survived','Sex','Pclass']].groupby(['Sex', 'Pclass']).mean() *100\n",
    "survived_by_sex"
   ]
  },
  {
   "cell_type": "markdown",
   "metadata": {
    "_cell_guid": "7c58b7ee-d6a1-0cc9-2346-81c47846a54a",
    "_uuid": "88185e9222c26d5d23caaeb209c18710a231b5f9"
   },
   "source": [
    "2.3 Calculer une nouvelle colonne FamilySize contenant la taille de la famille, pour les DataFrame train et Test. Afficher pour 10 exemples l'Id du passager, le nom, l'age, le sexe et la taille de la famille."
   ]
  },
  {
   "cell_type": "code",
   "execution_count": 324,
   "metadata": {
    "_cell_guid": "1a537f10-7cec-d0b7-8a34-fa9975655190",
    "_uuid": "ccc4a4cf7624dd4be450fd62ca3ad478d4e75696"
   },
   "outputs": [
    {
     "output_type": "execute_result",
     "data": {
      "text/plain": "   PassengerId                                          Name   Age  FamilySize\n0          892                              Kelly, Mr. James  34.5           1\n1          893              Wilkes, Mrs. James (Ellen Needs)  47.0           2\n2          894                     Myles, Mr. Thomas Francis  62.0           1\n3          895                              Wirz, Mr. Albert  27.0           1\n4          896  Hirvonen, Mrs. Alexander (Helga E Lindqvist)  22.0           3\n5          897                    Svensson, Mr. Johan Cervin  14.0           1\n6          898                          Connolly, Miss. Kate  30.0           1\n7          899                  Caldwell, Mr. Albert Francis  26.0           3\n8          900     Abrahim, Mrs. Joseph (Sophie Halaut Easu)  18.0           1\n9          901                       Davies, Mr. John Samuel  21.0           3",
      "text/html": "<div>\n<style scoped>\n    .dataframe tbody tr th:only-of-type {\n        vertical-align: middle;\n    }\n\n    .dataframe tbody tr th {\n        vertical-align: top;\n    }\n\n    .dataframe thead th {\n        text-align: right;\n    }\n</style>\n<table border=\"1\" class=\"dataframe\">\n  <thead>\n    <tr style=\"text-align: right;\">\n      <th></th>\n      <th>PassengerId</th>\n      <th>Name</th>\n      <th>Age</th>\n      <th>FamilySize</th>\n    </tr>\n  </thead>\n  <tbody>\n    <tr>\n      <th>0</th>\n      <td>892</td>\n      <td>Kelly, Mr. James</td>\n      <td>34.5</td>\n      <td>1</td>\n    </tr>\n    <tr>\n      <th>1</th>\n      <td>893</td>\n      <td>Wilkes, Mrs. James (Ellen Needs)</td>\n      <td>47.0</td>\n      <td>2</td>\n    </tr>\n    <tr>\n      <th>2</th>\n      <td>894</td>\n      <td>Myles, Mr. Thomas Francis</td>\n      <td>62.0</td>\n      <td>1</td>\n    </tr>\n    <tr>\n      <th>3</th>\n      <td>895</td>\n      <td>Wirz, Mr. Albert</td>\n      <td>27.0</td>\n      <td>1</td>\n    </tr>\n    <tr>\n      <th>4</th>\n      <td>896</td>\n      <td>Hirvonen, Mrs. Alexander (Helga E Lindqvist)</td>\n      <td>22.0</td>\n      <td>3</td>\n    </tr>\n    <tr>\n      <th>5</th>\n      <td>897</td>\n      <td>Svensson, Mr. Johan Cervin</td>\n      <td>14.0</td>\n      <td>1</td>\n    </tr>\n    <tr>\n      <th>6</th>\n      <td>898</td>\n      <td>Connolly, Miss. Kate</td>\n      <td>30.0</td>\n      <td>1</td>\n    </tr>\n    <tr>\n      <th>7</th>\n      <td>899</td>\n      <td>Caldwell, Mr. Albert Francis</td>\n      <td>26.0</td>\n      <td>3</td>\n    </tr>\n    <tr>\n      <th>8</th>\n      <td>900</td>\n      <td>Abrahim, Mrs. Joseph (Sophie Halaut Easu)</td>\n      <td>18.0</td>\n      <td>1</td>\n    </tr>\n    <tr>\n      <th>9</th>\n      <td>901</td>\n      <td>Davies, Mr. John Samuel</td>\n      <td>21.0</td>\n      <td>3</td>\n    </tr>\n  </tbody>\n</table>\n</div>"
     },
     "metadata": {},
     "execution_count": 324
    }
   ],
   "source": [
    "train['FamilySize'] = train['SibSp'] + train['Parch'] + 1\n",
    "train[['PassengerId','Name','Age','FamilySize']].head(10)\n",
    "\n",
    "test['FamilySize'] = test['SibSp'] + test['Parch'] + 1\n",
    "test[['PassengerId','Name','Age','FamilySize']].head(10)"
   ]
  },
  {
   "cell_type": "markdown",
   "metadata": {},
   "source": [
    "2.4 Visualisez le nombre de personnes et le taux de survie par taille de famille."
   ]
  },
  {
   "cell_type": "code",
   "execution_count": 325,
   "metadata": {
    "_cell_guid": "1a537f10-7cec-d0b7-8a34-fa9975655190",
    "_uuid": "ccc4a4cf7624dd4be450fd62ca3ad478d4e75696"
   },
   "outputs": [
    {
     "output_type": "execute_result",
     "data": {
      "text/plain": "            Survived  Survived\nFamilySize                    \n1           0.303538       537\n2           0.552795       161\n3           0.578431       102\n4           0.724138        29\n5           0.200000        15\n6           0.136364        22\n7           0.333333        12\n8           0.000000         6\n11          0.000000         7",
      "text/html": "<div>\n<style scoped>\n    .dataframe tbody tr th:only-of-type {\n        vertical-align: middle;\n    }\n\n    .dataframe tbody tr th {\n        vertical-align: top;\n    }\n\n    .dataframe thead th {\n        text-align: right;\n    }\n</style>\n<table border=\"1\" class=\"dataframe\">\n  <thead>\n    <tr style=\"text-align: right;\">\n      <th></th>\n      <th>Survived</th>\n      <th>Survived</th>\n    </tr>\n    <tr>\n      <th>FamilySize</th>\n      <th></th>\n      <th></th>\n    </tr>\n  </thead>\n  <tbody>\n    <tr>\n      <th>1</th>\n      <td>0.303538</td>\n      <td>537</td>\n    </tr>\n    <tr>\n      <th>2</th>\n      <td>0.552795</td>\n      <td>161</td>\n    </tr>\n    <tr>\n      <th>3</th>\n      <td>0.578431</td>\n      <td>102</td>\n    </tr>\n    <tr>\n      <th>4</th>\n      <td>0.724138</td>\n      <td>29</td>\n    </tr>\n    <tr>\n      <th>5</th>\n      <td>0.200000</td>\n      <td>15</td>\n    </tr>\n    <tr>\n      <th>6</th>\n      <td>0.136364</td>\n      <td>22</td>\n    </tr>\n    <tr>\n      <th>7</th>\n      <td>0.333333</td>\n      <td>12</td>\n    </tr>\n    <tr>\n      <th>8</th>\n      <td>0.000000</td>\n      <td>6</td>\n    </tr>\n    <tr>\n      <th>11</th>\n      <td>0.000000</td>\n      <td>7</td>\n    </tr>\n  </tbody>\n</table>\n</div>"
     },
     "metadata": {},
     "execution_count": 325
    }
   ],
   "source": [
    "frames = [train[['FamilySize', 'Survived']].groupby(['FamilySize']).mean(), train[['Survived', 'FamilySize']].groupby('FamilySize').count()]\n",
    "pd.concat(frames, axis=1, sort=False)"
   ]
  },
  {
   "cell_type": "markdown",
   "metadata": {
    "_cell_guid": "7c58b7ee-d6a1-0cc9-2346-81c47846a54a",
    "_uuid": "88185e9222c26d5d23caaeb209c18710a231b5f9"
   },
   "source": [
    "2.5 Calculer une nouvelle colonne IsAlone indiquant si le passager est seul ou pas, pour les DataFrame train et Test. Afficher pour 10 exemples l'Id du passager, le nom, l'age, le sexe et le status IsAlone."
   ]
  },
  {
   "cell_type": "code",
   "execution_count": 326,
   "metadata": {
    "_cell_guid": "8c35e945-c928-e3bc-bd9c-d6ddb287e4c9",
    "_uuid": "87f79dc0711c29f39c0db1a4f7a2e8a84c0c7edb"
   },
   "outputs": [
    {
     "output_type": "execute_result",
     "data": {
      "text/plain": "   PassengerId                                          Name   Age  IsAlone\n0          892                              Kelly, Mr. James  34.5     True\n1          893              Wilkes, Mrs. James (Ellen Needs)  47.0    False\n2          894                     Myles, Mr. Thomas Francis  62.0     True\n3          895                              Wirz, Mr. Albert  27.0     True\n4          896  Hirvonen, Mrs. Alexander (Helga E Lindqvist)  22.0    False\n5          897                    Svensson, Mr. Johan Cervin  14.0     True\n6          898                          Connolly, Miss. Kate  30.0     True\n7          899                  Caldwell, Mr. Albert Francis  26.0    False\n8          900     Abrahim, Mrs. Joseph (Sophie Halaut Easu)  18.0     True\n9          901                       Davies, Mr. John Samuel  21.0    False",
      "text/html": "<div>\n<style scoped>\n    .dataframe tbody tr th:only-of-type {\n        vertical-align: middle;\n    }\n\n    .dataframe tbody tr th {\n        vertical-align: top;\n    }\n\n    .dataframe thead th {\n        text-align: right;\n    }\n</style>\n<table border=\"1\" class=\"dataframe\">\n  <thead>\n    <tr style=\"text-align: right;\">\n      <th></th>\n      <th>PassengerId</th>\n      <th>Name</th>\n      <th>Age</th>\n      <th>IsAlone</th>\n    </tr>\n  </thead>\n  <tbody>\n    <tr>\n      <th>0</th>\n      <td>892</td>\n      <td>Kelly, Mr. James</td>\n      <td>34.5</td>\n      <td>True</td>\n    </tr>\n    <tr>\n      <th>1</th>\n      <td>893</td>\n      <td>Wilkes, Mrs. James (Ellen Needs)</td>\n      <td>47.0</td>\n      <td>False</td>\n    </tr>\n    <tr>\n      <th>2</th>\n      <td>894</td>\n      <td>Myles, Mr. Thomas Francis</td>\n      <td>62.0</td>\n      <td>True</td>\n    </tr>\n    <tr>\n      <th>3</th>\n      <td>895</td>\n      <td>Wirz, Mr. Albert</td>\n      <td>27.0</td>\n      <td>True</td>\n    </tr>\n    <tr>\n      <th>4</th>\n      <td>896</td>\n      <td>Hirvonen, Mrs. Alexander (Helga E Lindqvist)</td>\n      <td>22.0</td>\n      <td>False</td>\n    </tr>\n    <tr>\n      <th>5</th>\n      <td>897</td>\n      <td>Svensson, Mr. Johan Cervin</td>\n      <td>14.0</td>\n      <td>True</td>\n    </tr>\n    <tr>\n      <th>6</th>\n      <td>898</td>\n      <td>Connolly, Miss. Kate</td>\n      <td>30.0</td>\n      <td>True</td>\n    </tr>\n    <tr>\n      <th>7</th>\n      <td>899</td>\n      <td>Caldwell, Mr. Albert Francis</td>\n      <td>26.0</td>\n      <td>False</td>\n    </tr>\n    <tr>\n      <th>8</th>\n      <td>900</td>\n      <td>Abrahim, Mrs. Joseph (Sophie Halaut Easu)</td>\n      <td>18.0</td>\n      <td>True</td>\n    </tr>\n    <tr>\n      <th>9</th>\n      <td>901</td>\n      <td>Davies, Mr. John Samuel</td>\n      <td>21.0</td>\n      <td>False</td>\n    </tr>\n  </tbody>\n</table>\n</div>"
     },
     "metadata": {},
     "execution_count": 326
    }
   ],
   "source": [
    "train['IsAlone'] = train.FamilySize.map(lambda x: x == 1)\n",
    "train[['PassengerId','Name','Age','IsAlone']].head(10)\n",
    "test['IsAlone'] = test.FamilySize.map(lambda x: x == 1)\n",
    "test[['PassengerId','Name','Age','IsAlone']].head(10)"
   ]
  },
  {
   "cell_type": "markdown",
   "metadata": {},
   "source": [
    "2.6 Visualisez le nombre de personnes et le taux de survie par statut seul ou pas."
   ]
  },
  {
   "cell_type": "code",
   "execution_count": 327,
   "metadata": {
    "_cell_guid": "8c35e945-c928-e3bc-bd9c-d6ddb287e4c9",
    "_uuid": "87f79dc0711c29f39c0db1a4f7a2e8a84c0c7edb"
   },
   "outputs": [
    {
     "output_type": "execute_result",
     "data": {
      "text/plain": "         Survived  Survived\nIsAlone                    \nFalse    0.505650       354\nTrue     0.303538       537",
      "text/html": "<div>\n<style scoped>\n    .dataframe tbody tr th:only-of-type {\n        vertical-align: middle;\n    }\n\n    .dataframe tbody tr th {\n        vertical-align: top;\n    }\n\n    .dataframe thead th {\n        text-align: right;\n    }\n</style>\n<table border=\"1\" class=\"dataframe\">\n  <thead>\n    <tr style=\"text-align: right;\">\n      <th></th>\n      <th>Survived</th>\n      <th>Survived</th>\n    </tr>\n    <tr>\n      <th>IsAlone</th>\n      <th></th>\n      <th></th>\n    </tr>\n  </thead>\n  <tbody>\n    <tr>\n      <th>False</th>\n      <td>0.505650</td>\n      <td>354</td>\n    </tr>\n    <tr>\n      <th>True</th>\n      <td>0.303538</td>\n      <td>537</td>\n    </tr>\n  </tbody>\n</table>\n</div>"
     },
     "metadata": {},
     "execution_count": 327
    }
   ],
   "source": [
    "frames = [train[['IsAlone', 'Survived']].groupby(['IsAlone']).mean(), train[['IsAlone', 'Survived']].groupby('IsAlone').count()]\n",
    "pd.concat(frames, axis=1, sort=False)"
   ]
  },
  {
   "cell_type": "markdown",
   "metadata": {},
   "source": [
    "### Question 1 : La variable Classe est-elle utile pour prévoir la survie ? Pourquoi ?\n",
    "\n",
    "\n",
    "\n",
    "### Question 2 : Même question pour la variable Sex \n",
    "\n",
    "\n",
    "### Question 3 : Comment traiter le variables liées à la famille du passager ?\n",
    "\n",
    "\n",
    "\n"
   ]
  },
  {
   "cell_type": "markdown",
   "metadata": {},
   "source": [
    "## 3. Traitement des données manquantes (à faire sur les données Train et Test)"
   ]
  },
  {
   "cell_type": "markdown",
   "metadata": {
    "_cell_guid": "8aa419c0-6614-7efc-7797-97f4a5158b19",
    "_uuid": "dd18a31086cfeca6330b05f83caf3cc02f687253"
   },
   "source": [
    "3.1 La variable \"Embarked\" possède des valeurs nulles, compléter par la valeur majoritaire (S)."
   ]
  },
  {
   "cell_type": "code",
   "execution_count": 328,
   "metadata": {
    "_cell_guid": "0e70e9af-d7cc-8c40-b7d4-2643889c376d",
    "_uuid": "b4f7ccb3df98da6915bda1c7c225b905fc37845b"
   },
   "outputs": [
    {
     "output_type": "execute_result",
     "data": {
      "text/plain": "     PassengerId  Survived  Pclass  \\\n705          706         0       2   \n805          806         0       3   \n621          622         1       1   \n81            82         1       3   \n13            14         0       3   \n837          838         0       3   \n466          467         0       2   \n398          399         0       2   \n274          275         1       3   \n15            16         1       2   \n\n                                               Name     Sex   Age  SibSp  \\\n705  Morley, Mr. Henry Samuel (\"Mr Henry Marshall\")    male  39.0      0   \n805                       Johansson, Mr. Karl Johan    male  31.0      0   \n621                    Kimball, Mr. Edwin Nelson Jr    male  42.0      1   \n81                      Sheerlinck, Mr. Jan Baptist    male  29.0      0   \n13                      Andersson, Mr. Anders Johan    male  39.0      1   \n837                             Sirota, Mr. Maurice    male   NaN      0   \n466                           Campbell, Mr. William    male   NaN      0   \n398                                Pain, Dr. Alfred    male  23.0      0   \n274                      Healy, Miss. Hanora \"Nora\"  female   NaN      0   \n15                 Hewlett, Mrs. (Mary D Kingcome)   female  55.0      0   \n\n     Parch  Ticket     Fare Cabin Embarked  FamilySize  IsAlone  \n705      0  250655  26.0000   NaN        S           1     True  \n805      0  347063   7.7750   NaN        S           1     True  \n621      0   11753  52.5542   D19        S           2    False  \n81       0  345779   9.5000   NaN        S           1     True  \n13       5  347082  31.2750   NaN        S           7    False  \n837      0  392092   8.0500   NaN        S           1     True  \n466      0  239853   0.0000   NaN        S           1     True  \n398      0  244278  10.5000   NaN        S           1     True  \n274      0  370375   7.7500   NaN        Q           1     True  \n15       0  248706  16.0000   NaN        S           1     True  ",
      "text/html": "<div>\n<style scoped>\n    .dataframe tbody tr th:only-of-type {\n        vertical-align: middle;\n    }\n\n    .dataframe tbody tr th {\n        vertical-align: top;\n    }\n\n    .dataframe thead th {\n        text-align: right;\n    }\n</style>\n<table border=\"1\" class=\"dataframe\">\n  <thead>\n    <tr style=\"text-align: right;\">\n      <th></th>\n      <th>PassengerId</th>\n      <th>Survived</th>\n      <th>Pclass</th>\n      <th>Name</th>\n      <th>Sex</th>\n      <th>Age</th>\n      <th>SibSp</th>\n      <th>Parch</th>\n      <th>Ticket</th>\n      <th>Fare</th>\n      <th>Cabin</th>\n      <th>Embarked</th>\n      <th>FamilySize</th>\n      <th>IsAlone</th>\n    </tr>\n  </thead>\n  <tbody>\n    <tr>\n      <th>705</th>\n      <td>706</td>\n      <td>0</td>\n      <td>2</td>\n      <td>Morley, Mr. Henry Samuel (\"Mr Henry Marshall\")</td>\n      <td>male</td>\n      <td>39.0</td>\n      <td>0</td>\n      <td>0</td>\n      <td>250655</td>\n      <td>26.0000</td>\n      <td>NaN</td>\n      <td>S</td>\n      <td>1</td>\n      <td>True</td>\n    </tr>\n    <tr>\n      <th>805</th>\n      <td>806</td>\n      <td>0</td>\n      <td>3</td>\n      <td>Johansson, Mr. Karl Johan</td>\n      <td>male</td>\n      <td>31.0</td>\n      <td>0</td>\n      <td>0</td>\n      <td>347063</td>\n      <td>7.7750</td>\n      <td>NaN</td>\n      <td>S</td>\n      <td>1</td>\n      <td>True</td>\n    </tr>\n    <tr>\n      <th>621</th>\n      <td>622</td>\n      <td>1</td>\n      <td>1</td>\n      <td>Kimball, Mr. Edwin Nelson Jr</td>\n      <td>male</td>\n      <td>42.0</td>\n      <td>1</td>\n      <td>0</td>\n      <td>11753</td>\n      <td>52.5542</td>\n      <td>D19</td>\n      <td>S</td>\n      <td>2</td>\n      <td>False</td>\n    </tr>\n    <tr>\n      <th>81</th>\n      <td>82</td>\n      <td>1</td>\n      <td>3</td>\n      <td>Sheerlinck, Mr. Jan Baptist</td>\n      <td>male</td>\n      <td>29.0</td>\n      <td>0</td>\n      <td>0</td>\n      <td>345779</td>\n      <td>9.5000</td>\n      <td>NaN</td>\n      <td>S</td>\n      <td>1</td>\n      <td>True</td>\n    </tr>\n    <tr>\n      <th>13</th>\n      <td>14</td>\n      <td>0</td>\n      <td>3</td>\n      <td>Andersson, Mr. Anders Johan</td>\n      <td>male</td>\n      <td>39.0</td>\n      <td>1</td>\n      <td>5</td>\n      <td>347082</td>\n      <td>31.2750</td>\n      <td>NaN</td>\n      <td>S</td>\n      <td>7</td>\n      <td>False</td>\n    </tr>\n    <tr>\n      <th>837</th>\n      <td>838</td>\n      <td>0</td>\n      <td>3</td>\n      <td>Sirota, Mr. Maurice</td>\n      <td>male</td>\n      <td>NaN</td>\n      <td>0</td>\n      <td>0</td>\n      <td>392092</td>\n      <td>8.0500</td>\n      <td>NaN</td>\n      <td>S</td>\n      <td>1</td>\n      <td>True</td>\n    </tr>\n    <tr>\n      <th>466</th>\n      <td>467</td>\n      <td>0</td>\n      <td>2</td>\n      <td>Campbell, Mr. William</td>\n      <td>male</td>\n      <td>NaN</td>\n      <td>0</td>\n      <td>0</td>\n      <td>239853</td>\n      <td>0.0000</td>\n      <td>NaN</td>\n      <td>S</td>\n      <td>1</td>\n      <td>True</td>\n    </tr>\n    <tr>\n      <th>398</th>\n      <td>399</td>\n      <td>0</td>\n      <td>2</td>\n      <td>Pain, Dr. Alfred</td>\n      <td>male</td>\n      <td>23.0</td>\n      <td>0</td>\n      <td>0</td>\n      <td>244278</td>\n      <td>10.5000</td>\n      <td>NaN</td>\n      <td>S</td>\n      <td>1</td>\n      <td>True</td>\n    </tr>\n    <tr>\n      <th>274</th>\n      <td>275</td>\n      <td>1</td>\n      <td>3</td>\n      <td>Healy, Miss. Hanora \"Nora\"</td>\n      <td>female</td>\n      <td>NaN</td>\n      <td>0</td>\n      <td>0</td>\n      <td>370375</td>\n      <td>7.7500</td>\n      <td>NaN</td>\n      <td>Q</td>\n      <td>1</td>\n      <td>True</td>\n    </tr>\n    <tr>\n      <th>15</th>\n      <td>16</td>\n      <td>1</td>\n      <td>2</td>\n      <td>Hewlett, Mrs. (Mary D Kingcome)</td>\n      <td>female</td>\n      <td>55.0</td>\n      <td>0</td>\n      <td>0</td>\n      <td>248706</td>\n      <td>16.0000</td>\n      <td>NaN</td>\n      <td>S</td>\n      <td>1</td>\n      <td>True</td>\n    </tr>\n  </tbody>\n</table>\n</div>"
     },
     "metadata": {},
     "execution_count": 328
    }
   ],
   "source": [
    "train['Embarked'].fillna('S', inplace=True)\n",
    "train.sample(10)"
   ]
  },
  {
   "cell_type": "markdown",
   "metadata": {},
   "source": [
    "3.2 Afficher l'influence du port d'embarquement sur la Survie "
   ]
  },
  {
   "cell_type": "code",
   "execution_count": 329,
   "metadata": {
    "_cell_guid": "0e70e9af-d7cc-8c40-b7d4-2643889c376d",
    "_uuid": "b4f7ccb3df98da6915bda1c7c225b905fc37845b"
   },
   "outputs": [
    {
     "output_type": "execute_result",
     "data": {
      "text/plain": "           Survived\nEmbarked           \nC         55.357143\nQ         38.961039\nS         33.900929",
      "text/html": "<div>\n<style scoped>\n    .dataframe tbody tr th:only-of-type {\n        vertical-align: middle;\n    }\n\n    .dataframe tbody tr th {\n        vertical-align: top;\n    }\n\n    .dataframe thead th {\n        text-align: right;\n    }\n</style>\n<table border=\"1\" class=\"dataframe\">\n  <thead>\n    <tr style=\"text-align: right;\">\n      <th></th>\n      <th>Survived</th>\n    </tr>\n    <tr>\n      <th>Embarked</th>\n      <th></th>\n    </tr>\n  </thead>\n  <tbody>\n    <tr>\n      <th>C</th>\n      <td>55.357143</td>\n    </tr>\n    <tr>\n      <th>Q</th>\n      <td>38.961039</td>\n    </tr>\n    <tr>\n      <th>S</th>\n      <td>33.900929</td>\n    </tr>\n  </tbody>\n</table>\n</div>"
     },
     "metadata": {},
     "execution_count": 329
    }
   ],
   "source": [
    "train[['Embarked','Survived']].groupby(['Embarked']).mean() * 100"
   ]
  },
  {
   "cell_type": "markdown",
   "metadata": {
    "_cell_guid": "e08c9ee8-d6d1-99b7-38bd-f0042c18a5d9",
    "_uuid": "bbeb369d4bb1b086fcc3257218fdeeb6bcdb53c0"
   },
   "source": [
    "3.3 La variable \"Fare\" (prix du ticket) possède des valeurs manquantes. Remplacer ces valeurs par la valeur médiane."
   ]
  },
  {
   "cell_type": "code",
   "execution_count": 330,
   "metadata": {
    "_cell_guid": "a21335bd-4e8d-66e8-e6a5-5d2173b72d3b",
    "_uuid": "f04975f236aad78d3f93812512088404b5c9280e"
   },
   "outputs": [],
   "source": [
    "train.Fare.fillna(train.Fare.median(), inplace=True)"
   ]
  },
  {
   "cell_type": "markdown",
   "metadata": {},
   "source": [
    "3.4 Créer une variable CategoricalFare Découpant la valeur de ticket en 4 catégories de tailles à peu près égales. "
   ]
  },
  {
   "cell_type": "code",
   "execution_count": 331,
   "metadata": {
    "_cell_guid": "a21335bd-4e8d-66e8-e6a5-5d2173b72d3b",
    "_uuid": "f04975f236aad78d3f93812512088404b5c9280e"
   },
   "outputs": [],
   "source": [
    "train['CategoricalFare'] = pd.qcut(train['Fare'], 4)"
   ]
  },
  {
   "cell_type": "markdown",
   "metadata": {},
   "source": [
    "3.5 Analyser l'effet de ces catégories de prix de ticket sur la survie."
   ]
  },
  {
   "cell_type": "code",
   "execution_count": 332,
   "metadata": {
    "_cell_guid": "a21335bd-4e8d-66e8-e6a5-5d2173b72d3b",
    "_uuid": "f04975f236aad78d3f93812512088404b5c9280e"
   },
   "outputs": [
    {
     "output_type": "execute_result",
     "data": {
      "text/plain": "                 Survived\nCategoricalFare          \n(-0.001, 7.91]   0.197309\n(7.91, 14.454]   0.303571\n(14.454, 31.0]   0.454955\n(31.0, 512.329]  0.581081",
      "text/html": "<div>\n<style scoped>\n    .dataframe tbody tr th:only-of-type {\n        vertical-align: middle;\n    }\n\n    .dataframe tbody tr th {\n        vertical-align: top;\n    }\n\n    .dataframe thead th {\n        text-align: right;\n    }\n</style>\n<table border=\"1\" class=\"dataframe\">\n  <thead>\n    <tr style=\"text-align: right;\">\n      <th></th>\n      <th>Survived</th>\n    </tr>\n    <tr>\n      <th>CategoricalFare</th>\n      <th></th>\n    </tr>\n  </thead>\n  <tbody>\n    <tr>\n      <th>(-0.001, 7.91]</th>\n      <td>0.197309</td>\n    </tr>\n    <tr>\n      <th>(7.91, 14.454]</th>\n      <td>0.303571</td>\n    </tr>\n    <tr>\n      <th>(14.454, 31.0]</th>\n      <td>0.454955</td>\n    </tr>\n    <tr>\n      <th>(31.0, 512.329]</th>\n      <td>0.581081</td>\n    </tr>\n  </tbody>\n</table>\n</div>"
     },
     "metadata": {},
     "execution_count": 332
    }
   ],
   "source": [
    "train[['CategoricalFare', 'Survived']].groupby(['CategoricalFare']).mean()"
   ]
  },
  {
   "cell_type": "markdown",
   "metadata": {},
   "source": [
    "3.6 Combien de valeurs d'Age manquent ? Complète par des valeurs entières aléatoires entre (moyenne - écart type) et (moyenne + écart type)."
   ]
  },
  {
   "cell_type": "code",
   "execution_count": 333,
   "metadata": {
    "_cell_guid": "b90c2870-ce5d-ae0e-a33d-59e35445500e",
    "_uuid": "2af2b56d51752be08b84dbb2684466976758faa7"
   },
   "outputs": [],
   "source": [
    "train.loc[train.Age.isna()].PassengerId.count()\n",
    "train.Age.fillna(np.random.randint(train.Age.mean() - train.Age.std(), train.Age.mean() + train.Age.std()), inplace=True)"
   ]
  },
  {
   "cell_type": "markdown",
   "metadata": {},
   "source": [
    "3.7 Créer une variable CategoricalAge Découpant la valeur d'age en 5 catégories égales. "
   ]
  },
  {
   "cell_type": "code",
   "execution_count": 334,
   "metadata": {
    "_cell_guid": "b90c2870-ce5d-ae0e-a33d-59e35445500e",
    "_uuid": "2af2b56d51752be08b84dbb2684466976758faa7"
   },
   "outputs": [
    {
     "output_type": "execute_result",
     "data": {
      "text/plain": "0       (20.0, 28.0]\n1       (35.0, 38.0]\n2       (20.0, 28.0]\n3       (28.0, 35.0]\n4       (28.0, 35.0]\n           ...      \n886     (20.0, 28.0]\n887    (0.419, 20.0]\n888     (28.0, 35.0]\n889     (20.0, 28.0]\n890     (28.0, 35.0]\nName: CategoricalAge, Length: 891, dtype: category\nCategories (5, interval[float64]): [(0.419, 20.0] < (20.0, 28.0] < (28.0, 35.0] < (35.0, 38.0] < (38.0, 80.0]]"
     },
     "metadata": {},
     "execution_count": 334
    }
   ],
   "source": [
    "train['CategoricalAge'] = pd.qcut(train.Age, 5)\n",
    "train.CategoricalAge"
   ]
  },
  {
   "cell_type": "markdown",
   "metadata": {},
   "source": [
    "3.8 Analyser l'effet de ces catégories d'age sur la survie."
   ]
  },
  {
   "cell_type": "code",
   "execution_count": 335,
   "metadata": {},
   "outputs": [
    {
     "output_type": "execute_result",
     "data": {
      "text/plain": "                Survived\nCategoricalAge          \n(0.419, 20.0]   0.458101\n(20.0, 28.0]    0.360656\n(28.0, 35.0]    0.355769\n(35.0, 38.0]    0.425000\n(38.0, 80.0]    0.372881",
      "text/html": "<div>\n<style scoped>\n    .dataframe tbody tr th:only-of-type {\n        vertical-align: middle;\n    }\n\n    .dataframe tbody tr th {\n        vertical-align: top;\n    }\n\n    .dataframe thead th {\n        text-align: right;\n    }\n</style>\n<table border=\"1\" class=\"dataframe\">\n  <thead>\n    <tr style=\"text-align: right;\">\n      <th></th>\n      <th>Survived</th>\n    </tr>\n    <tr>\n      <th>CategoricalAge</th>\n      <th></th>\n    </tr>\n  </thead>\n  <tbody>\n    <tr>\n      <th>(0.419, 20.0]</th>\n      <td>0.458101</td>\n    </tr>\n    <tr>\n      <th>(20.0, 28.0]</th>\n      <td>0.360656</td>\n    </tr>\n    <tr>\n      <th>(28.0, 35.0]</th>\n      <td>0.355769</td>\n    </tr>\n    <tr>\n      <th>(35.0, 38.0]</th>\n      <td>0.425000</td>\n    </tr>\n    <tr>\n      <th>(38.0, 80.0]</th>\n      <td>0.372881</td>\n    </tr>\n  </tbody>\n</table>\n</div>"
     },
     "metadata": {},
     "execution_count": 335
    }
   ],
   "source": [
    "train[['CategoricalAge', 'Survived']].groupby(['CategoricalAge']).mean()"
   ]
  },
  {
   "cell_type": "markdown",
   "metadata": {},
   "source": [
    "### Question 1 : Classer les variables par ordre d'intérêt\n",
    "\n",
    "Le sexe, age, la catégorie socio-économique, embarquement"
   ]
  },
  {
   "cell_type": "markdown",
   "metadata": {},
   "source": [
    "## 4 : Traitement de features complexes (Optionnel) "
   ]
  },
  {
   "cell_type": "markdown",
   "metadata": {
    "_cell_guid": "bd25ec3f-b601-c1cc-d701-991fac1621f9",
    "_uuid": "17f6d181260d68d89f0a5dfa99b40a82b723567c"
   },
   "source": [
    "4.1 : Le nom permet de retrouver le titre du passager. Trouver les titres lorsqu'ils existent."
   ]
  },
  {
   "cell_type": "code",
   "execution_count": 336,
   "metadata": {
    "_cell_guid": "ad042f43-bfe0-ded0-4171-379d8caaa749",
    "_uuid": "5a56f5b4bad78d7e323167c5f0cc07cb3675187a"
   },
   "outputs": [],
   "source": [
    "train['Title'] = train.Name.map(lambda x: x.split(', ')[1].split('.')[0])"
   ]
  },
  {
   "cell_type": "markdown",
   "metadata": {},
   "source": [
    "4.2 : En utilisant la fonction pandas crosstab, afficher pour train le nombre d'occurences par titres (en ligne) et par sexe (en colonne)"
   ]
  },
  {
   "cell_type": "code",
   "execution_count": 337,
   "metadata": {},
   "outputs": [
    {
     "output_type": "execute_result",
     "data": {
      "text/plain": "col_0         female  male\nrow_0                     \nCapt               0     1\nCol                0     2\nDon                0     1\nDr                 1     6\nJonkheer           0     1\nLady               1     0\nMajor              0     2\nMaster             0    40\nMiss             182     0\nMlle               2     0\nMme                1     0\nMr                 0   517\nMrs              125     0\nMs                 1     0\nRev                0     6\nSir                0     1\nthe Countess       1     0",
      "text/html": "<div>\n<style scoped>\n    .dataframe tbody tr th:only-of-type {\n        vertical-align: middle;\n    }\n\n    .dataframe tbody tr th {\n        vertical-align: top;\n    }\n\n    .dataframe thead th {\n        text-align: right;\n    }\n</style>\n<table border=\"1\" class=\"dataframe\">\n  <thead>\n    <tr style=\"text-align: right;\">\n      <th>col_0</th>\n      <th>female</th>\n      <th>male</th>\n    </tr>\n    <tr>\n      <th>row_0</th>\n      <th></th>\n      <th></th>\n    </tr>\n  </thead>\n  <tbody>\n    <tr>\n      <th>Capt</th>\n      <td>0</td>\n      <td>1</td>\n    </tr>\n    <tr>\n      <th>Col</th>\n      <td>0</td>\n      <td>2</td>\n    </tr>\n    <tr>\n      <th>Don</th>\n      <td>0</td>\n      <td>1</td>\n    </tr>\n    <tr>\n      <th>Dr</th>\n      <td>1</td>\n      <td>6</td>\n    </tr>\n    <tr>\n      <th>Jonkheer</th>\n      <td>0</td>\n      <td>1</td>\n    </tr>\n    <tr>\n      <th>Lady</th>\n      <td>1</td>\n      <td>0</td>\n    </tr>\n    <tr>\n      <th>Major</th>\n      <td>0</td>\n      <td>2</td>\n    </tr>\n    <tr>\n      <th>Master</th>\n      <td>0</td>\n      <td>40</td>\n    </tr>\n    <tr>\n      <th>Miss</th>\n      <td>182</td>\n      <td>0</td>\n    </tr>\n    <tr>\n      <th>Mlle</th>\n      <td>2</td>\n      <td>0</td>\n    </tr>\n    <tr>\n      <th>Mme</th>\n      <td>1</td>\n      <td>0</td>\n    </tr>\n    <tr>\n      <th>Mr</th>\n      <td>0</td>\n      <td>517</td>\n    </tr>\n    <tr>\n      <th>Mrs</th>\n      <td>125</td>\n      <td>0</td>\n    </tr>\n    <tr>\n      <th>Ms</th>\n      <td>1</td>\n      <td>0</td>\n    </tr>\n    <tr>\n      <th>Rev</th>\n      <td>0</td>\n      <td>6</td>\n    </tr>\n    <tr>\n      <th>Sir</th>\n      <td>0</td>\n      <td>1</td>\n    </tr>\n    <tr>\n      <th>the Countess</th>\n      <td>1</td>\n      <td>0</td>\n    </tr>\n  </tbody>\n</table>\n</div>"
     },
     "metadata": {},
     "execution_count": 337
    }
   ],
   "source": [
    "pd.crosstab(train.Title.values, [train.Sex.values])"
   ]
  },
  {
   "cell_type": "markdown",
   "metadata": {
    "_cell_guid": "ca5fff8c-7a0d-6c18-2173-b8df6293c50a",
    "_uuid": "84862f8cbbe2ea72b69a9cba78c6b7e10c80626e"
   },
   "source": [
    "4.3 : \n",
    "Remplacer 'Melle et 'Ms' par 'Miss'\n",
    "Remplacer 'Mme' par 'Mrs'\n",
    "Creer une valeur \"Rare\" pour les autres titres avec moins de 10 occurences. "
   ]
  },
  {
   "cell_type": "code",
   "execution_count": 338,
   "metadata": {
    "_cell_guid": "8357238b-98fe-632a-acd5-33674a6132ce",
    "_uuid": "db0029466612ad0550fc0eebef4a06a5507d6c3d"
   },
   "outputs": [
    {
     "output_type": "execute_result",
     "data": {
      "text/plain": "Mr        517\nMiss      182\nMrs       125\nMaster     40\nRare       27\nName: Title, dtype: int64"
     },
     "metadata": {},
     "execution_count": 338
    }
   ],
   "source": [
    "train.Title.replace(to_replace = [\"Ms\", \"Mlle\"], value =\"Miss\")\n",
    "train.Title.replace(to_replace = \"Mme\", value =\"Mrs\")\n",
    "train.loc[train.groupby('Title').Title.transform('count').lt(10), 'Title'] = 'Rare'\n",
    "train.Title.value_counts()"
   ]
  },
  {
   "cell_type": "markdown",
   "metadata": {
    "_cell_guid": "68fa2057-e27a-e252-0d1b-869c00a303ba",
    "_uuid": "52bcf7b36b8edb12d40f2a1f9e80060b55d91ad3"
   },
   "source": [
    "## 5. Mise en forme des données non numériques"
   ]
  },
  {
   "cell_type": "markdown",
   "metadata": {},
   "source": [
    "5.1 Attribuer une valeur numérique au Genre. Par exemple 0 pour 'female' et 1 pour 'male'"
   ]
  },
  {
   "cell_type": "code",
   "execution_count": 339,
   "metadata": {},
   "outputs": [
    {
     "output_type": "execute_result",
     "data": {
      "text/plain": "0      1\n1      0\n2      0\n3      0\n4      1\n      ..\n886    1\n887    0\n888    0\n889    1\n890    1\nName: Sex, Length: 891, dtype: int64"
     },
     "metadata": {},
     "execution_count": 339
    }
   ],
   "source": [
    "train.Sex.map(\n",
    "    {\n",
    "     'female': 0,\n",
    "     'male': 1,\n",
    "    }\n",
    ")\n",
    ""
   ]
  },
  {
   "cell_type": "markdown",
   "metadata": {},
   "source": [
    "5.2 : Attribuer une valeur pour les possibilités de la variable \"Title\" ('Master','Miss','Mr','Mrs','Rare'). "
   ]
  },
  {
   "cell_type": "code",
   "execution_count": 340,
   "metadata": {},
   "outputs": [
    {
     "output_type": "execute_result",
     "data": {
      "text/plain": "0      3\n1      4\n2      2\n3      4\n4      3\n      ..\n886    5\n887    2\n888    2\n889    3\n890    3\nName: Title, Length: 891, dtype: int64"
     },
     "metadata": {},
     "execution_count": 340
    }
   ],
   "source": [
    "train.Title.map(\n",
    "    {\n",
    "     'Master': 1,\n",
    "     'Miss': 2,\n",
    "     'Mr': 3,\n",
    "     'Mrs': 4,\n",
    "     'Rare': 5,\n",
    "    }\n",
    ")"
   ]
  },
  {
   "cell_type": "markdown",
   "metadata": {},
   "source": [
    "5.3 Remplacer les titres manquant par 0, et attribuer à la colonne le type entier."
   ]
  },
  {
   "cell_type": "code",
   "execution_count": 341,
   "metadata": {},
   "outputs": [],
   "source": [
    "  # pas besoins car titre déjà remplacé dans le dans 4.3"
   ]
  },
  {
   "cell_type": "markdown",
   "metadata": {},
   "source": [
    "5.4 Attribuer une valeur numérique aux 4 catégories de la variable Fare (question 3.4)"
   ]
  },
  {
   "cell_type": "code",
   "execution_count": 342,
   "metadata": {},
   "outputs": [
    {
     "output_type": "execute_result",
     "data": {
      "text/plain": "0      0\n1      1\n2      2\n3      1\n4      2\n      ..\n886    2\n887    3\n888    3\n889    3\n890    0\nName: CategoricalFare, Length: 891, dtype: category\nCategories (4, int64): [0 < 2 < 3 < 1]"
     },
     "metadata": {},
     "execution_count": 342
    }
   ],
   "source": [
    "unique = train.CategoricalFare.unique()\n",
    "train.CategoricalFare.map(\n",
    "    {\n",
    "        unique[0]: 0,\n",
    "        unique[1]: 1,\n",
    "        unique[2]: 2,\n",
    "        unique[3]: 3\n",
    "    }\n",
    ")"
   ]
  },
  {
   "cell_type": "markdown",
   "metadata": {},
   "source": [
    "5.5 Attribuer une valeur numérique aux 5 catégories de la variable Age (question 3.7)"
   ]
  },
  {
   "cell_type": "code",
   "execution_count": 343,
   "metadata": {},
   "outputs": [
    {
     "output_type": "execute_result",
     "data": {
      "text/plain": "0      0\n1      1\n2      0\n3      2\n4      2\n      ..\n886    0\n887    4\n888    2\n889    0\n890    2\nName: CategoricalAge, Length: 891, dtype: category\nCategories (5, int64): [4 < 0 < 2 < 1 < 3]"
     },
     "metadata": {},
     "execution_count": 343
    }
   ],
   "source": [
    "unique = train.CategoricalAge.unique()\n",
    "train.CategoricalAge.map(\n",
    "    {\n",
    "        unique[0]: 0,\n",
    "        unique[1]: 1,\n",
    "        unique[2]: 2,\n",
    "        unique[3]: 3,\n",
    "        unique[4]: 4\n",
    "    }\n",
    ")"
   ]
  },
  {
   "cell_type": "markdown",
   "metadata": {},
   "source": [
    "5.6 Attibuer une valeur numérique au Port d'embarquement (Embarked)"
   ]
  },
  {
   "cell_type": "code",
   "execution_count": 344,
   "metadata": {},
   "outputs": [
    {
     "output_type": "execute_result",
     "data": {
      "text/plain": "0      0\n1      1\n2      0\n3      0\n4      0\n      ..\n886    0\n887    0\n888    0\n889    1\n890    2\nName: Embarked, Length: 891, dtype: int64"
     },
     "metadata": {},
     "execution_count": 344
    }
   ],
   "source": [
    "unique = train.Embarked.unique()\n",
    "train.Embarked.map(\n",
    "    {\n",
    "        unique[0]: 0,\n",
    "        unique[1]: 1,\n",
    "        unique[2]: 2\n",
    "    }\n",
    ")"
   ]
  },
  {
   "cell_type": "markdown",
   "metadata": {},
   "source": [
    "5.7 Supprimer les features inutiles"
   ]
  },
  {
   "cell_type": "code",
   "execution_count": 345,
   "metadata": {},
   "outputs": [
    {
     "output_type": "execute_result",
     "data": {
      "text/plain": "     PassengerId  Survived  Pclass     Sex Embarked  FamilySize  IsAlone  \\\n0              1         0       3    male        S           2    False   \n1              2         1       1  female        C           2    False   \n2              3         1       3  female        S           1     True   \n3              4         1       1  female        S           2    False   \n4              5         0       3    male        S           1     True   \n..           ...       ...     ...     ...      ...         ...      ...   \n886          887         0       2    male        S           1     True   \n887          888         1       1  female        S           1     True   \n888          889         0       3  female        S           4    False   \n889          890         1       1    male        C           1     True   \n890          891         0       3    male        Q           1     True   \n\n     CategoricalFare CategoricalAge Title  \n0     (-0.001, 7.91]   (20.0, 28.0]    Mr  \n1    (31.0, 512.329]   (35.0, 38.0]   Mrs  \n2     (7.91, 14.454]   (20.0, 28.0]  Miss  \n3    (31.0, 512.329]   (28.0, 35.0]   Mrs  \n4     (7.91, 14.454]   (28.0, 35.0]    Mr  \n..               ...            ...   ...  \n886   (7.91, 14.454]   (20.0, 28.0]  Rare  \n887   (14.454, 31.0]  (0.419, 20.0]  Miss  \n888   (14.454, 31.0]   (28.0, 35.0]  Miss  \n889   (14.454, 31.0]   (20.0, 28.0]    Mr  \n890   (-0.001, 7.91]   (28.0, 35.0]    Mr  \n\n[891 rows x 10 columns]",
      "text/html": "<div>\n<style scoped>\n    .dataframe tbody tr th:only-of-type {\n        vertical-align: middle;\n    }\n\n    .dataframe tbody tr th {\n        vertical-align: top;\n    }\n\n    .dataframe thead th {\n        text-align: right;\n    }\n</style>\n<table border=\"1\" class=\"dataframe\">\n  <thead>\n    <tr style=\"text-align: right;\">\n      <th></th>\n      <th>PassengerId</th>\n      <th>Survived</th>\n      <th>Pclass</th>\n      <th>Sex</th>\n      <th>Embarked</th>\n      <th>FamilySize</th>\n      <th>IsAlone</th>\n      <th>CategoricalFare</th>\n      <th>CategoricalAge</th>\n      <th>Title</th>\n    </tr>\n  </thead>\n  <tbody>\n    <tr>\n      <th>0</th>\n      <td>1</td>\n      <td>0</td>\n      <td>3</td>\n      <td>male</td>\n      <td>S</td>\n      <td>2</td>\n      <td>False</td>\n      <td>(-0.001, 7.91]</td>\n      <td>(20.0, 28.0]</td>\n      <td>Mr</td>\n    </tr>\n    <tr>\n      <th>1</th>\n      <td>2</td>\n      <td>1</td>\n      <td>1</td>\n      <td>female</td>\n      <td>C</td>\n      <td>2</td>\n      <td>False</td>\n      <td>(31.0, 512.329]</td>\n      <td>(35.0, 38.0]</td>\n      <td>Mrs</td>\n    </tr>\n    <tr>\n      <th>2</th>\n      <td>3</td>\n      <td>1</td>\n      <td>3</td>\n      <td>female</td>\n      <td>S</td>\n      <td>1</td>\n      <td>True</td>\n      <td>(7.91, 14.454]</td>\n      <td>(20.0, 28.0]</td>\n      <td>Miss</td>\n    </tr>\n    <tr>\n      <th>3</th>\n      <td>4</td>\n      <td>1</td>\n      <td>1</td>\n      <td>female</td>\n      <td>S</td>\n      <td>2</td>\n      <td>False</td>\n      <td>(31.0, 512.329]</td>\n      <td>(28.0, 35.0]</td>\n      <td>Mrs</td>\n    </tr>\n    <tr>\n      <th>4</th>\n      <td>5</td>\n      <td>0</td>\n      <td>3</td>\n      <td>male</td>\n      <td>S</td>\n      <td>1</td>\n      <td>True</td>\n      <td>(7.91, 14.454]</td>\n      <td>(28.0, 35.0]</td>\n      <td>Mr</td>\n    </tr>\n    <tr>\n      <th>...</th>\n      <td>...</td>\n      <td>...</td>\n      <td>...</td>\n      <td>...</td>\n      <td>...</td>\n      <td>...</td>\n      <td>...</td>\n      <td>...</td>\n      <td>...</td>\n      <td>...</td>\n    </tr>\n    <tr>\n      <th>886</th>\n      <td>887</td>\n      <td>0</td>\n      <td>2</td>\n      <td>male</td>\n      <td>S</td>\n      <td>1</td>\n      <td>True</td>\n      <td>(7.91, 14.454]</td>\n      <td>(20.0, 28.0]</td>\n      <td>Rare</td>\n    </tr>\n    <tr>\n      <th>887</th>\n      <td>888</td>\n      <td>1</td>\n      <td>1</td>\n      <td>female</td>\n      <td>S</td>\n      <td>1</td>\n      <td>True</td>\n      <td>(14.454, 31.0]</td>\n      <td>(0.419, 20.0]</td>\n      <td>Miss</td>\n    </tr>\n    <tr>\n      <th>888</th>\n      <td>889</td>\n      <td>0</td>\n      <td>3</td>\n      <td>female</td>\n      <td>S</td>\n      <td>4</td>\n      <td>False</td>\n      <td>(14.454, 31.0]</td>\n      <td>(28.0, 35.0]</td>\n      <td>Miss</td>\n    </tr>\n    <tr>\n      <th>889</th>\n      <td>890</td>\n      <td>1</td>\n      <td>1</td>\n      <td>male</td>\n      <td>C</td>\n      <td>1</td>\n      <td>True</td>\n      <td>(14.454, 31.0]</td>\n      <td>(20.0, 28.0]</td>\n      <td>Mr</td>\n    </tr>\n    <tr>\n      <th>890</th>\n      <td>891</td>\n      <td>0</td>\n      <td>3</td>\n      <td>male</td>\n      <td>Q</td>\n      <td>1</td>\n      <td>True</td>\n      <td>(-0.001, 7.91]</td>\n      <td>(28.0, 35.0]</td>\n      <td>Mr</td>\n    </tr>\n  </tbody>\n</table>\n<p>891 rows × 10 columns</p>\n</div>"
     },
     "metadata": {},
     "execution_count": 345
    }
   ],
   "source": [
    "drop_col = ['Name','Age','SibSp','Parch','Ticket','Cabin','Fare']\n",
    "train.drop(drop_col, axis=1) "
   ]
  },
  {
   "cell_type": "markdown",
   "metadata": {},
   "source": [
    "5.8 Afficher les infos pour les deux datasets"
   ]
  },
  {
   "cell_type": "code",
   "execution_count": 346,
   "metadata": {},
   "outputs": [
    {
     "output_type": "stream",
     "name": "stdout",
     "text": "<class 'pandas.core.frame.DataFrame'>\nRangeIndex: 891 entries, 0 to 890\nData columns (total 17 columns):\n #   Column           Non-Null Count  Dtype   \n---  ------           --------------  -----   \n 0   PassengerId      891 non-null    int64   \n 1   Survived         891 non-null    int64   \n 2   Pclass           891 non-null    int64   \n 3   Name             891 non-null    object  \n 4   Sex              891 non-null    object  \n 5   Age              891 non-null    float64 \n 6   SibSp            891 non-null    int64   \n 7   Parch            891 non-null    int64   \n 8   Ticket           891 non-null    object  \n 9   Fare             891 non-null    float64 \n 10  Cabin            204 non-null    object  \n 11  Embarked         891 non-null    object  \n 12  FamilySize       891 non-null    int64   \n 13  IsAlone          891 non-null    bool    \n 14  CategoricalFare  891 non-null    category\n 15  CategoricalAge   891 non-null    category\n 16  Title            891 non-null    object  \ndtypes: bool(1), category(2), float64(2), int64(6), object(6)\nmemory usage: 100.6+ KB\n<class 'pandas.core.frame.DataFrame'>\nRangeIndex: 418 entries, 0 to 417\nData columns (total 13 columns):\n #   Column       Non-Null Count  Dtype  \n---  ------       --------------  -----  \n 0   PassengerId  418 non-null    int64  \n 1   Pclass       418 non-null    int64  \n 2   Name         418 non-null    object \n 3   Sex          418 non-null    object \n 4   Age          332 non-null    float64\n 5   SibSp        418 non-null    int64  \n 6   Parch        418 non-null    int64  \n 7   Ticket       418 non-null    object \n 8   Fare         417 non-null    float64\n 9   Cabin        91 non-null     object \n 10  Embarked     418 non-null    object \n 11  FamilySize   418 non-null    int64  \n 12  IsAlone      418 non-null    bool   \ndtypes: bool(1), float64(2), int64(5), object(5)\nmemory usage: 39.7+ KB\n"
    }
   ],
   "source": [
    "train.info()\n",
    "test.info()"
   ]
  },
  {
   "cell_type": "markdown",
   "metadata": {},
   "source": [
    "# Sauver les deux datasets dans des fichier csv. Eviter d'écrire un index (n° de ligne)"
   ]
  },
  {
   "cell_type": "code",
   "execution_count": 347,
   "metadata": {
    "_cell_guid": "2502bb70-ce6f-2497-7331-7d1f80521470",
    "_uuid": "1aa110c1043f1f43c091a771abc64054a211f784"
   },
   "outputs": [],
   "source": [
    "train.to_csv('Data/passagers_after.csv', index=False)\n",
    "test.to_csv('Data/test_after.csv', index=False)"
   ]
  },
  {
   "cell_type": "markdown",
   "metadata": {},
   "source": [
    "##### Question : Sur combien de questions avez-vous utilisé les conseils ?\n",
    "\n",
    "0"
   ]
  }
 ],
 "metadata": {
  "_change_revision": 0,
  "_is_fork": false,
  "kernelspec": {
   "display_name": "Python 3",
   "language": "python",
   "name": "python3"
  },
  "language_info": {
   "codemirror_mode": {
    "name": "ipython",
    "version": 3
   },
   "file_extension": ".py",
   "mimetype": "text/x-python",
   "name": "python",
   "nbconvert_exporter": "python",
   "pygments_lexer": "ipython3",
   "version": "3.7.7-final"
  }
 },
 "nbformat": 4,
 "nbformat_minor": 4
}